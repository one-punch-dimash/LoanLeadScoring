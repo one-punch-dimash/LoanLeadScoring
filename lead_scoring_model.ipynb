{
 "cells": [
  {
   "cell_type": "code",
   "execution_count": 1,
   "id": "3328ad77",
   "metadata": {},
   "outputs": [],
   "source": [
    "import pandas as pd\n",
    "import numpy as np\n",
    "import seaborn as sns\n",
    "from sklearn.metrics import  plot_confusion_matrix\n",
    "from sklearn.metrics import log_loss\n",
    "import matplotlib.pyplot as plt\n",
    "import pandas.core.algorithms as algos\n",
    "from pandas import Series\n",
    "import scipy.stats.stats as stats\n",
    "import re\n",
    "import traceback\n",
    "import string\n",
    "from sklearn.utils import shuffle\n",
    "from sklearn.tree import DecisionTreeClassifier\n",
    "from sklearn.metrics import confusion_matrix \n",
    "from sklearn.metrics import precision_score, recall_score, f1_score, accuracy_score \n",
    "from sklearn import metrics\n",
    "from sklearn.datasets import make_classification\n",
    "from sklearn.model_selection import train_test_split\n",
    "from matplotlib import pyplot\n",
    "from joblib import dump, load\n",
    "\n",
    "df = pd.read_csv(r'C:\\Users\\DAytkali\\Desktop\\ABT_PROD\\ABT_PROD_TRAINING_DATASET.csv', sep=';', encoding = 'mbcs')\n",
    "\n",
    "df = df.set_index(['CLIENT_ID'])"
   ]
  },
  {
   "cell_type": "code",
   "execution_count": 2,
   "id": "dac9587a",
   "metadata": {},
   "outputs": [
    {
     "data": {
      "text/plain": [
       "Target                      int64\n",
       "AGE                       float64\n",
       "CHILDREN_CNT              float64\n",
       "EDUCATION                  object\n",
       "CLIENT_INCOME_AMT         float64\n",
       "IS_CAR_FLG                 object\n",
       "ADD_INCOME_AMT            float64\n",
       "CARD_CUR_CNT                int64\n",
       "REMN_PAYMENT_CNT          float64\n",
       "LOAN_DAY_CNT              float64\n",
       "LAST_CRD_OPEN_MNTH_CNT    float64\n",
       "TR_MBANLOG_CNT_Q2           int64\n",
       "MAX_CREDIT_REST_HY2       float64\n",
       "CUR_DEP_AMT               float64\n",
       "CUR_CREDIT_AMT            float64\n",
       "dtype: object"
      ]
     },
     "execution_count": 2,
     "metadata": {},
     "output_type": "execute_result"
    }
   ],
   "source": [
    "df.dtypes"
   ]
  },
  {
   "cell_type": "code",
   "execution_count": 3,
   "id": "38cccf57",
   "metadata": {},
   "outputs": [
    {
     "data": {
      "text/plain": [
       "0    300000\n",
       "1     70914\n",
       "Name: Target, dtype: int64"
      ]
     },
     "execution_count": 3,
     "metadata": {},
     "output_type": "execute_result"
    }
   ],
   "source": [
    "df['Target'].value_counts()"
   ]
  },
  {
   "cell_type": "code",
   "execution_count": 4,
   "id": "552fed5d",
   "metadata": {},
   "outputs": [],
   "source": [
    "def divide_by_steps(dataframe, col_name, step = 5, aftermax = 80):\n",
    "    \n",
    "    t = step\n",
    "\n",
    "    dataframe.loc[((dataframe[col_name]<0),col_name)]=0\n",
    "\n",
    "    while(step<= aftermax * 2):\n",
    "        dataframe.loc[((dataframe[col_name]> step - t) & (dataframe[col_name]<= step),col_name)]= step\n",
    "        step += t\n",
    "\n",
    "    dataframe.loc[((dataframe[col_name]>=aftermax),col_name)]=aftermax\n",
    "    return dataframe\n",
    "\n",
    "def iv_woe(data, target, bins=10, show_woe=False):\n",
    "    newDF, woeDF = pd.DataFrame(), pd.DataFrame()\n",
    "    cols = data.columns\n",
    "    \n",
    "    for ivars in cols[~cols.isin([target])]:\n",
    "        if (data[ivars].dtype.kind in 'bifc') and (len(np.unique(data[ivars])) > 10):\n",
    "            binned_x = pd.qcut(data[ivars], bins, duplicates='drop')\n",
    "            d0 = pd.DataFrame({'x': binned_x, 'y': data[target]})\n",
    "        else:\n",
    "            d0 = pd.DataFrame({'x': data[ivars], 'y': data[target]})\n",
    "        \n",
    "        d = d0.groupby(\"x\", as_index=False).agg({\"y\": [\"count\", \"sum\"]})\n",
    "        d.columns = ['Cutoff', 'N', 'Events']\n",
    "        d['% of Events'] = np.maximum(d['Events'], 0.5) / d['Events'].sum()\n",
    "        d['Non-Events'] = d['N'] - d['Events']\n",
    "        d['% of Non-Events'] = np.maximum(d['Non-Events'], 0.5) / d['Non-Events'].sum()\n",
    "        d['WoE'] = np.log(d['% of Events'] / d['% of Non-Events'])\n",
    "        d['IV'] = d['WoE'] * (d['% of Events'] - d['% of Non-Events'])\n",
    "        d.insert(loc=0, column='Variable', value=ivars)\n",
    "        print(\"Information value of \" + ivars + \" is \" + str(round(d['IV'].sum(), 3)))\n",
    "        temp = pd.DataFrame({\"Variable\": [ivars], \"IV\": [d['IV'].sum()]}, columns=[\"Variable\", \"IV\"])\n",
    "        \n",
    "        d.drop(['% of Non-Events', 'Non-Events', '% of Events'], axis=1, inplace=True)\n",
    "        newDF = pd.concat([newDF, temp], axis=0)\n",
    "        woeDF = pd.concat([woeDF, d], axis=0)\n",
    "\n",
    "        if show_woe:\n",
    "            print(d)\n",
    "    return woeDF\n",
    "\n",
    "def plot_woe(df, bins=10, column='AGE'):\n",
    "    woe = iv_woe(data=df[['Target', column]], target='Target', bins=10, show_woe=True)\n",
    "    woe = woe.loc[:, ['Cutoff', 'WoE']]\n",
    "\n",
    "    plt.figure(figsize=(12, 10))\n",
    "    plt.plot(woe.index, woe['WoE'], marker='o')\n",
    "    plt.axhline(0, color='red', linestyle='--', linewidth=1)\n",
    "    plt.xlabel('Categories')\n",
    "    plt.ylabel('Weight of Evidence (WoE)')\n",
    "    plt.title(f'WoE for Column: {column}')\n",
    "    plt.grid(True)\n",
    "\n",
    "    for i, label in enumerate(woe['Cutoff']):\n",
    "        plt.annotate(label, (woe.index[i], woe['WoE'][i]), textcoords=\"offset points\", xytext=(0, 10), ha='left')\n",
    "\n",
    "    plt.show()\n",
    "\n",
    "# Calculate information value\n",
    "def calc_iv(df, feature, target, pr=0):\n",
    "\n",
    "    lst = []\n",
    "\n",
    "    for i in range(df[feature].nunique()):\n",
    "        \n",
    "        val = list(df[feature].unique())[i]\n",
    "        lst.append([feature, val, df[df[feature] == val].count()[feature], df[(df[feature] == val) & (df[target] == 1)].count()[feature]])\n",
    "\n",
    "    data = pd.DataFrame(lst, columns=['Variable', 'Value', 'All', 'Bad'])\n",
    "    data = data[data['Bad'] > 0]\n",
    "\n",
    "    data['Share'] = data['All'] / data['All'].sum()\n",
    "    data['Bad Rate'] = data['Bad'] / data['All']\n",
    "    data['Distribution Good'] = (data['All'] - data['Bad']) / (data['All'].sum() - data['Bad'].sum())\n",
    "    data['Distribution Bad'] = data['Bad'] / data['Bad'].sum()\n",
    "    data['WoE'] = np.log(data['Distribution Good'] / data['Distribution Bad'])\n",
    "    data['IV'] = (data['WoE'] * (data['Distribution Good'] - data['Distribution Bad'])).sum()\n",
    "\n",
    "    data = data.sort_values(by=['Variable', 'Value'], ascending=True)\n",
    "\n",
    "    if pr == 1:\n",
    "        print(data)\n",
    "\n",
    "    return data['IV'].values[0]"
   ]
  },
  {
   "cell_type": "code",
   "execution_count": 26,
   "id": "1b540859",
   "metadata": {},
   "outputs": [
    {
     "data": {
      "text/plain": [
       "Index(['Target', 'OTHER_CAMP_CNT_M0', 'CALL_RESP_NEG_CNT_M2',\n",
       "       'MAX_CREDIT_REST_HY2', 'TR_ATM_MAX_Y1', 'REPAY_LAST_Y_FLG',\n",
       "       'FACT_PAYMENT_CNT', 'ADD_INCOME_AMT', 'DPND_CNT', 'FMEMB_CNT',\n",
       "       'CLIENT_INCOME_AMT_450000', 'LAST_CRD_OPEN_MNTH_CNT_40.0',\n",
       "       'LOAN_AGR_DAY_PCT_50', 'TR_LAST_WDRAW_DAYS_CNT_30', 'CALL_CNT_HY2_2',\n",
       "       'TR_MBANLOG_CNT_M0_10'],\n",
       "      dtype='object')"
      ]
     },
     "execution_count": 26,
     "metadata": {},
     "output_type": "execute_result"
    }
   ],
   "source": [
    "df.columns"
   ]
  },
  {
   "cell_type": "markdown",
   "id": "3a63e181",
   "metadata": {},
   "source": [
    "# EDA Analysis"
   ]
  },
  {
   "cell_type": "code",
   "execution_count": 7,
   "id": "1e99e44e",
   "metadata": {},
   "outputs": [],
   "source": [
    "corr_df = pd.DataFrame(df.corr()['Target'])\n",
    "corr_df = corr_df.reset_index()\n",
    "\n",
    "low_correlation_features = []\n",
    "nan_features = []\n",
    "\n",
    "for i in corr_df[(corr_df['Target'] < 0.2)]['index']:\n",
    "    low_correlation_features.append(i)\n",
    "    \n",
    "for i in corr_df[pd.isna(corr_df['Target'])]['index']:\n",
    "    nan_features.append(i)\n",
    "\n",
    "df.drop(low_correlation_features, axis=1, inplace=True)\n",
    "df.drop(nan_features, axis=1, inplace=True)"
   ]
  },
  {
   "cell_type": "code",
   "execution_count": 5,
   "id": "d9e9fb2d",
   "metadata": {},
   "outputs": [
    {
     "name": "stdout",
     "output_type": "stream",
     "text": [
      "Target                    1.000000\n",
      "REMN_PAYMENT_CNT          0.368616\n",
      "CARD_CUR_CNT              0.332490\n",
      "TR_MBANLOG_CNT_Q2         0.252271\n",
      "CUR_CREDIT_AMT            0.207656\n",
      "MAX_CREDIT_REST_HY2       0.171875\n",
      "CHILDREN_CNT              0.135505\n",
      "ADD_INCOME_AMT            0.052231\n",
      "CLIENT_INCOME_AMT         0.050830\n",
      "CUR_DEP_AMT              -0.013074\n",
      "AGE                      -0.184271\n",
      "LAST_CRD_OPEN_MNTH_CNT   -0.256435\n",
      "LOAN_DAY_CNT             -0.265402\n",
      "Name: Target, dtype: float64\n",
      "(370914, 15)\n"
     ]
    }
   ],
   "source": [
    "df_corr = df.corr()['Target'].sort_values(ascending = False)\n",
    "\n",
    "pd.options.display.max_rows = 4000\n",
    "print(df_corr)\n",
    "print(df.shape)"
   ]
  },
  {
   "cell_type": "code",
   "execution_count": 9,
   "id": "ec725e8c",
   "metadata": {},
   "outputs": [
    {
     "data": {
      "text/plain": [
       "Target                     0\n",
       "AGE                        0\n",
       "CHILDREN_CNT               0\n",
       "EDUCATION              87727\n",
       "CLIENT_INCOME_AMT          0\n",
       "IS_CAR_FLG                 0\n",
       "ADD_INCOME_AMT             0\n",
       "CARD_CUR_CNT               0\n",
       "REMN_PAYMENT_CNT           0\n",
       "LOAN_DAY_CNT               0\n",
       "TR_MBANLOG_CNT_Q2          0\n",
       "MAX_CREDIT_REST_HY2        0\n",
       "CUR_DEP_AMT                0\n",
       "CUR_CREDIT_AMT             0\n",
       "dtype: int64"
      ]
     },
     "execution_count": 9,
     "metadata": {},
     "output_type": "execute_result"
    }
   ],
   "source": [
    "df.isna().sum()"
   ]
  },
  {
   "cell_type": "code",
   "execution_count": 35,
   "id": "c2bf3ff5",
   "metadata": {},
   "outputs": [],
   "source": [
    "def df_transformation(df):\n",
    "    \n",
    "    df.loc[df['IS_CAR_FLG']=='Y','IS_CAR_FLG']='1'\n",
    "    df.loc[df['IS_CAR_FLG']=='N','IS_CAR_FLG']='0'\n",
    "    df.loc[df['IS_CAR_FLG']=='1','IS_CAR_FLG']=1\n",
    "    df.loc[df['IS_CAR_FLG']=='0','IS_CAR_FLG']=0\n",
    "\n",
    "    df['IS_CAR_FLG'] = pd.to_numeric(df['IS_CAR_FLG'])\n",
    "    \n",
    "    df.drop(['LAST_CRD_OPEN_MNTH_CNT'], axis = 1, inplace = True)\n",
    "    df['AGE'].fillna(value = df['AGE'].mean(), inplace = True)\n",
    "    df['CHILDREN_CNT'].fillna(value = 0, inplace = True)\n",
    "    df['CLIENT_INCOME_AMT'].fillna(value = 0, inplace = True)\n",
    "    df['ADD_INCOME_AMT'].fillna(value = 0, inplace = True)\n",
    "    df['MAX_CREDIT_REST_HY2'].fillna(value = 0, inplace = True)\n",
    "    df['CUR_DEP_AMT'].fillna(value = 0, inplace = True)\n",
    "    df['CUR_CREDIT_AMT'].fillna(value = 0, inplace = True)\n",
    "    \n",
    "    df = pd.get_dummies(df, columns=['EDUCATION'])\n",
    "    \n",
    "    #df.drop(['EDUCATION_Среднее', 'EDUCATION_Начальное общее', 'EDUCATION_Начальное профессиональное', 'EDUCATION_Общее среднее',\n",
    "    #     'EDUCATION_Незаконченное высшее', 'EDUCATION_Основное среднее', 'EDUCATION_Техническое'], axis = 1, inplace = True)\n",
    "    \n",
    "    df.loc[((df['AGE']>=75) ,'AGE')]=75\n",
    "    df.loc[((df['AGE']<=18) ,'AGE')]=18\n",
    "\n",
    "    df.loc[((df['ADD_INCOME_AMT']<90000),'ADD_INCOME_AMT')]=0\n",
    "    df.loc[((df['ADD_INCOME_AMT']>=90000) ,'ADD_INCOME_AMT')]='>=90000'\n",
    "\n",
    "    df.loc[((df['CLIENT_INCOME_AMT']<260000),'CLIENT_INCOME_AMT')]=0\n",
    "    df.loc[((df['CLIENT_INCOME_AMT']>=260000) ,'CLIENT_INCOME_AMT')]='>=260000'\n",
    "\n",
    "    df.loc[((df['MAX_CREDIT_REST_HY2']<86000),'MAX_CREDIT_REST_HY2')]=0\n",
    "    df.loc[((df['MAX_CREDIT_REST_HY2']>=86000) ,'MAX_CREDIT_REST_HY2')]='>=86000'\n",
    "\n",
    "    df.loc[((df['CUR_CREDIT_AMT']<350000),'CUR_CREDIT_AMT')]=0\n",
    "    df.loc[((df['CUR_CREDIT_AMT']>=350000) ,'CUR_CREDIT_AMT')]='>=350000'\n",
    "\n",
    "    df.loc[((df['CARD_CUR_CNT']<=1),'CARD_CUR_CNT')]=1\n",
    "    df.loc[((df['CARD_CUR_CNT']>1),'CARD_CUR_CNT')]='>=2'\n",
    "    \n",
    "    df = pd.get_dummies(df, columns=['ADD_INCOME_AMT', 'CLIENT_INCOME_AMT', 'CARD_CUR_CNT', 'MAX_CREDIT_REST_HY2',\n",
    "                                 'CUR_CREDIT_AMT'])\n",
    "    \n",
    "    #df = df.drop(['CLIENT_INCOME_AMT_0.0', 'ADD_INCOME_AMT_0.0', 'CARD_CUR_CNT_1', 'REMN_PAYMENT_CNT',\n",
    "    #          'LOAN_DAY_CNT', 'TR_MBANLOG_CNT_Q2', 'CUR_DEP_AMT', 'CUR_CREDIT_AMT_0.0', 'MAX_CREDIT_REST_HY2_0.0', \n",
    "    #              'IS_CAR_FLG'], axis = 1)\n",
    "    \n",
    "    df = df[['CLIENT_ID', 'Target', 'AGE', 'CHILDREN_CNT', 'EDUCATION_Высшее',\n",
    "       'ADD_INCOME_AMT_>=90000', 'CLIENT_INCOME_AMT_>=260000',\n",
    "       'CARD_CUR_CNT_>=2', 'MAX_CREDIT_REST_HY2_>=86000',\n",
    "       'CUR_CREDIT_AMT_>=350000']]\n",
    "    \n",
    "    return df\n",
    "    "
   ]
  },
  {
   "cell_type": "code",
   "execution_count": 7,
   "id": "b1c93e86",
   "metadata": {},
   "outputs": [],
   "source": [
    "df = df_transformation(df)"
   ]
  },
  {
   "cell_type": "code",
   "execution_count": 13,
   "id": "d07ecdbf",
   "metadata": {},
   "outputs": [
    {
     "data": {
      "text/plain": [
       "Index(['Target', 'AGE', 'CHILDREN_CNT', 'EDUCATION_Высшее',\n",
       "       'ADD_INCOME_AMT_>=90000', 'CLIENT_INCOME_AMT_>=260000',\n",
       "       'CARD_CUR_CNT_>=2', 'MAX_CREDIT_REST_HY2_>=86000',\n",
       "       'CUR_CREDIT_AMT_>=350000'],\n",
       "      dtype='object')"
      ]
     },
     "execution_count": 13,
     "metadata": {},
     "output_type": "execute_result"
    }
   ],
   "source": [
    "df.columns"
   ]
  },
  {
   "cell_type": "markdown",
   "id": "dcc24e65",
   "metadata": {},
   "source": [
    "# Model training"
   ]
  },
  {
   "cell_type": "code",
   "execution_count": 32,
   "id": "02d4cf38",
   "metadata": {},
   "outputs": [
    {
     "name": "stdout",
     "output_type": "stream",
     "text": [
      "Target                         1.000000\n",
      "CUR_CREDIT_AMT_>=350000        0.289092\n",
      "CARD_CUR_CNT_>=2               0.245574\n",
      "CLIENT_INCOME_AMT_>=260000     0.244255\n",
      "MAX_CREDIT_REST_HY2_>=86000    0.224660\n",
      "ADD_INCOME_AMT_>=90000         0.176245\n",
      "CHILDREN_CNT                   0.135495\n",
      "EDUCATION_Высшее               0.128730\n",
      "AGE                           -0.184405\n",
      "Name: Target, dtype: float64\n",
      "(370914, 9)\n"
     ]
    }
   ],
   "source": [
    "df_corr = df.corr()['Target'].sort_values(ascending = False)\n",
    "\n",
    "pd.options.display.max_rows = 4000\n",
    "print(df_corr)\n",
    "print(df.shape)"
   ]
  },
  {
   "cell_type": "code",
   "execution_count": 33,
   "id": "8b5121ba",
   "metadata": {},
   "outputs": [
    {
     "data": {
      "image/png": "[encoded data removed]",
      "text/plain": [
       "<Figure size 1080x864 with 2 Axes>"
      ]
     },
     "metadata": {
      "needs_background": "light"
     },
     "output_type": "display_data"
    }
   ],
   "source": [
    "plt.figure(figsize=(15, 12))\n",
    "matrix = np.triu(df.corr())\n",
    "sns.heatmap(df.corr(), annot=True,linewidth=.8, mask=matrix, cmap=\"rocket\");"
   ]
  },
  {
   "cell_type": "code",
   "execution_count": 20,
   "id": "f8ecf632",
   "metadata": {
    "scrolled": false
   },
   "outputs": [
    {
     "name": "stdout",
     "output_type": "stream",
     "text": [
      "Target 0.00000\n",
      "AGE 0.31566\n",
      "CHILDREN_CNT inf\n",
      "IS_CAR_FLG 0.00204\n"
     ]
    },
    {
     "name": "stderr",
     "output_type": "stream",
     "text": [
      "C:\\Users\\DAytkali\\AppData\\Roaming\\Python\\Python39\\site-packages\\pandas\\core\\arraylike.py:397: RuntimeWarning: divide by zero encountered in log\n",
      "  result = getattr(ufunc, method)(*inputs, **kwargs)\n"
     ]
    },
    {
     "name": "stdout",
     "output_type": "stream",
     "text": [
      "EDUCATION_Высшее 0.10979\n",
      "ADD_INCOME_AMT_>=90000 0.18716\n",
      "CLIENT_INCOME_AMT_>=260000 0.40559\n",
      "CARD_CUR_CNT_>=2 0.28709\n",
      "MAX_CREDIT_REST_HY2_>=86000 0.27232\n",
      "CUR_CREDIT_AMT_>=350000 0.41412\n"
     ]
    }
   ],
   "source": [
    "for i in df.columns: print(str(i) + ' ' + '%.5f' % calc_iv(df, i, 'Target'))"
   ]
  },
  {
   "cell_type": "code",
   "execution_count": 194,
   "id": "641527f2",
   "metadata": {},
   "outputs": [
    {
     "data": {
      "text/plain": [
       "['Target',\n",
       " 'AGE',\n",
       " 'CHILDREN_CNT',\n",
       " 'IS_CAR_FLG',\n",
       " 'EDUCATION_Высшее',\n",
       " 'ADD_INCOME_AMT_>=90000',\n",
       " 'CLIENT_INCOME_AMT_>=260000',\n",
       " 'CARD_CUR_CNT_>=2',\n",
       " 'MAX_CREDIT_REST_HY2_>=86000',\n",
       " 'CUR_CREDIT_AMT_>=350000']"
      ]
     },
     "execution_count": 194,
     "metadata": {},
     "output_type": "execute_result"
    }
   ],
   "source": [
    "list(df.columns)"
   ]
  },
  {
   "cell_type": "markdown",
   "id": "30a48590",
   "metadata": {},
   "source": [
    "# Classifier"
   ]
  },
  {
   "cell_type": "code",
   "execution_count": 34,
   "id": "c58a17d2",
   "metadata": {},
   "outputs": [
    {
     "name": "stdout",
     "output_type": "stream",
     "text": [
      "<class 'pandas.core.frame.DataFrame'>\n",
      "Int64Index: 370914 entries, 9529273 to 63109545\n",
      "Data columns (total 9 columns):\n",
      " #   Column                       Non-Null Count   Dtype  \n",
      "---  ------                       --------------   -----  \n",
      " 0   Target                       370914 non-null  int64  \n",
      " 1   AGE                          370914 non-null  float64\n",
      " 2   CHILDREN_CNT                 370914 non-null  float64\n",
      " 3   EDUCATION_Высшее             370914 non-null  uint8  \n",
      " 4   ADD_INCOME_AMT_>=90000       370914 non-null  uint8  \n",
      " 5   CLIENT_INCOME_AMT_>=260000   370914 non-null  uint8  \n",
      " 6   CARD_CUR_CNT_>=2             370914 non-null  uint8  \n",
      " 7   MAX_CREDIT_REST_HY2_>=86000  370914 non-null  uint8  \n",
      " 8   CUR_CREDIT_AMT_>=350000      370914 non-null  uint8  \n",
      "dtypes: float64(2), int64(1), uint8(6)\n",
      "memory usage: 13.4 MB\n"
     ]
    }
   ],
   "source": [
    "df.info()"
   ]
  },
  {
   "cell_type": "code",
   "execution_count": 204,
   "id": "9fc98ca0",
   "metadata": {},
   "outputs": [],
   "source": [
    "from sklearn.ensemble import BaggingClassifier\n",
    "from sklearn.ensemble import GradientBoostingClassifier\n",
    "from sklearn.tree import DecisionTreeClassifier\n",
    "from xgboost import XGBClassifier\n",
    "from sklearn.neighbors import KNeighborsClassifier\n",
    "from sklearn.ensemble import RandomForestClassifier\n",
    "from imblearn.over_sampling import RandomOverSampler\n",
    "from imblearn.under_sampling import RandomUnderSampler\n",
    "from imblearn.under_sampling import ClusterCentroids\n",
    "from imblearn.under_sampling import CondensedNearestNeighbour\n",
    "from imblearn.under_sampling import RandomUnderSampler\n",
    "\n",
    "x = df.drop('Target',axis=1)\n",
    "y = df[['Target']]\n",
    "\n",
    "rus = RandomUnderSampler(random_state=42)\n",
    "x_res, y_res = rus.fit_resample(x, y)\n",
    "x_res.index = x.index[rus.sample_indices_]\n",
    "y_res.index = y.index[rus.sample_indices_]\n",
    "\n",
    "x_train, x_test, y_train, y_test = train_test_split(x, y, test_size=0.2, random_state=42)\n",
    "\n",
    "rus = RandomUnderSampler(random_state=42)\n",
    "x_res, y_res = rus.fit_resample(x_train, y_train)\n",
    "x_res.index = x_train.index[rus.sample_indices_]\n",
    "y_res.index = y_train.index[rus.sample_indices_]\n",
    "\n",
    "x_train = x_res\n",
    "y_train = y_res\n",
    "\n",
    "#x_train, x_val, y_train, y_val = train_test_split(x_train, y_train, test_size=0.25, random_state=42)"
   ]
  },
  {
   "cell_type": "code",
   "execution_count": 35,
   "id": "d9f45a0e",
   "metadata": {},
   "outputs": [
    {
     "data": {
      "text/html": [
       "<div>\n",
       "<style scoped>\n",
       "    .dataframe tbody tr th:only-of-type {\n",
       "        vertical-align: middle;\n",
       "    }\n",
       "\n",
       "    .dataframe tbody tr th {\n",
       "        vertical-align: top;\n",
       "    }\n",
       "\n",
       "    .dataframe thead th {\n",
       "        text-align: right;\n",
       "    }\n",
       "</style>\n",
       "<table border=\"1\" class=\"dataframe\">\n",
       "  <thead>\n",
       "    <tr style=\"text-align: right;\">\n",
       "      <th></th>\n",
       "      <th>Target</th>\n",
       "      <th>AGE</th>\n",
       "      <th>CHILDREN_CNT</th>\n",
       "      <th>EDUCATION_Высшее</th>\n",
       "      <th>ADD_INCOME_AMT_&gt;=90000</th>\n",
       "      <th>CLIENT_INCOME_AMT_&gt;=260000</th>\n",
       "      <th>CARD_CUR_CNT_&gt;=2</th>\n",
       "      <th>MAX_CREDIT_REST_HY2_&gt;=86000</th>\n",
       "      <th>CUR_CREDIT_AMT_&gt;=350000</th>\n",
       "    </tr>\n",
       "  </thead>\n",
       "  <tbody>\n",
       "    <tr>\n",
       "      <th>count</th>\n",
       "      <td>370914.000000</td>\n",
       "      <td>370914.000000</td>\n",
       "      <td>370914.000000</td>\n",
       "      <td>370914.000000</td>\n",
       "      <td>370914.000000</td>\n",
       "      <td>370914.000000</td>\n",
       "      <td>370914.000000</td>\n",
       "      <td>370914.000000</td>\n",
       "      <td>370914.000000</td>\n",
       "    </tr>\n",
       "    <tr>\n",
       "      <th>mean</th>\n",
       "      <td>0.191187</td>\n",
       "      <td>43.827453</td>\n",
       "      <td>0.578212</td>\n",
       "      <td>0.510293</td>\n",
       "      <td>0.309185</td>\n",
       "      <td>0.469335</td>\n",
       "      <td>0.072019</td>\n",
       "      <td>0.175518</td>\n",
       "      <td>0.118232</td>\n",
       "    </tr>\n",
       "    <tr>\n",
       "      <th>std</th>\n",
       "      <td>0.393237</td>\n",
       "      <td>13.747420</td>\n",
       "      <td>1.031465</td>\n",
       "      <td>0.499895</td>\n",
       "      <td>0.462158</td>\n",
       "      <td>0.499059</td>\n",
       "      <td>0.258520</td>\n",
       "      <td>0.380410</td>\n",
       "      <td>0.322883</td>\n",
       "    </tr>\n",
       "    <tr>\n",
       "      <th>min</th>\n",
       "      <td>0.000000</td>\n",
       "      <td>18.000000</td>\n",
       "      <td>0.000000</td>\n",
       "      <td>0.000000</td>\n",
       "      <td>0.000000</td>\n",
       "      <td>0.000000</td>\n",
       "      <td>0.000000</td>\n",
       "      <td>0.000000</td>\n",
       "      <td>0.000000</td>\n",
       "    </tr>\n",
       "    <tr>\n",
       "      <th>25%</th>\n",
       "      <td>0.000000</td>\n",
       "      <td>33.000000</td>\n",
       "      <td>0.000000</td>\n",
       "      <td>0.000000</td>\n",
       "      <td>0.000000</td>\n",
       "      <td>0.000000</td>\n",
       "      <td>0.000000</td>\n",
       "      <td>0.000000</td>\n",
       "      <td>0.000000</td>\n",
       "    </tr>\n",
       "    <tr>\n",
       "      <th>50%</th>\n",
       "      <td>0.000000</td>\n",
       "      <td>42.000000</td>\n",
       "      <td>0.000000</td>\n",
       "      <td>1.000000</td>\n",
       "      <td>0.000000</td>\n",
       "      <td>0.000000</td>\n",
       "      <td>0.000000</td>\n",
       "      <td>0.000000</td>\n",
       "      <td>0.000000</td>\n",
       "    </tr>\n",
       "    <tr>\n",
       "      <th>75%</th>\n",
       "      <td>0.000000</td>\n",
       "      <td>54.000000</td>\n",
       "      <td>1.000000</td>\n",
       "      <td>1.000000</td>\n",
       "      <td>1.000000</td>\n",
       "      <td>1.000000</td>\n",
       "      <td>0.000000</td>\n",
       "      <td>0.000000</td>\n",
       "      <td>0.000000</td>\n",
       "    </tr>\n",
       "    <tr>\n",
       "      <th>max</th>\n",
       "      <td>1.000000</td>\n",
       "      <td>75.000000</td>\n",
       "      <td>16.000000</td>\n",
       "      <td>1.000000</td>\n",
       "      <td>1.000000</td>\n",
       "      <td>1.000000</td>\n",
       "      <td>1.000000</td>\n",
       "      <td>1.000000</td>\n",
       "      <td>1.000000</td>\n",
       "    </tr>\n",
       "  </tbody>\n",
       "</table>\n",
       "</div>"
      ],
      "text/plain": [
       "              Target            AGE   CHILDREN_CNT  EDUCATION_Высшее  \\\n",
       "count  370914.000000  370914.000000  370914.000000     370914.000000   \n",
       "mean        0.191187      43.827453       0.578212          0.510293   \n",
       "std         0.393237      13.747420       1.031465          0.499895   \n",
       "min         0.000000      18.000000       0.000000          0.000000   \n",
       "25%         0.000000      33.000000       0.000000          0.000000   \n",
       "50%         0.000000      42.000000       0.000000          1.000000   \n",
       "75%         0.000000      54.000000       1.000000          1.000000   \n",
       "max         1.000000      75.000000      16.000000          1.000000   \n",
       "\n",
       "       ADD_INCOME_AMT_>=90000  CLIENT_INCOME_AMT_>=260000  CARD_CUR_CNT_>=2  \\\n",
       "count           370914.000000               370914.000000     370914.000000   \n",
       "mean                 0.309185                    0.469335          0.072019   \n",
       "std                  0.462158                    0.499059          0.258520   \n",
       "min                  0.000000                    0.000000          0.000000   \n",
       "25%                  0.000000                    0.000000          0.000000   \n",
       "50%                  0.000000                    0.000000          0.000000   \n",
       "75%                  1.000000                    1.000000          0.000000   \n",
       "max                  1.000000                    1.000000          1.000000   \n",
       "\n",
       "       MAX_CREDIT_REST_HY2_>=86000  CUR_CREDIT_AMT_>=350000  \n",
       "count                370914.000000            370914.000000  \n",
       "mean                      0.175518                 0.118232  \n",
       "std                       0.380410                 0.322883  \n",
       "min                       0.000000                 0.000000  \n",
       "25%                       0.000000                 0.000000  \n",
       "50%                       0.000000                 0.000000  \n",
       "75%                       0.000000                 0.000000  \n",
       "max                       1.000000                 1.000000  "
      ]
     },
     "execution_count": 35,
     "metadata": {},
     "output_type": "execute_result"
    }
   ],
   "source": [
    "df.describe()"
   ]
  },
  {
   "cell_type": "code",
   "execution_count": 51,
   "id": "c82973d0",
   "metadata": {
    "scrolled": false
   },
   "outputs": [
    {
     "name": "stderr",
     "output_type": "stream",
     "text": [
      "100%|██████████| 1000/1000 [11:26<00:00,  1.46epoch/s, Loss=0.3987]\n"
     ]
    },
    {
     "data": {
      "image/png": "[encoded data removed]",
      "text/plain": [
       "<Figure size 864x360 with 2 Axes>"
      ]
     },
     "metadata": {
      "needs_background": "light"
     },
     "output_type": "display_data"
    },
    {
     "name": "stdout",
     "output_type": "stream",
     "text": [
      "Accuracy: 0.8347\n",
      "F1 Score: 0.4256\n",
      "ROC AUC: 0.8028\n"
     ]
    }
   ],
   "source": [
    "import torch\n",
    "import torch.nn as nn\n",
    "import torch.optim as optim\n",
    "from sklearn.model_selection import train_test_split\n",
    "from sklearn.metrics import accuracy_score, f1_score, roc_auc_score, roc_curve, auc\n",
    "import matplotlib.pyplot as plt\n",
    "from sklearn.preprocessing import StandardScaler\n",
    "from tqdm import tqdm\n",
    "\n",
    "# Load and preprocess your data\n",
    "# df = pd.read_csv('your_dataset.csv')\n",
    "X = df.drop('Target', axis=1).values\n",
    "y = df['Target'].values\n",
    "\n",
    "# Split the data into train and test sets\n",
    "X_train, X_test, y_train, y_test = train_test_split(X, y, test_size=0.2, random_state=42)\n",
    "\n",
    "# Select numerical features for normalization\n",
    "numerical_features = [0, 1]  # Replace with the column indices of numerical features\n",
    "\n",
    "# Apply standard scaling to numerical features\n",
    "scaler = StandardScaler()\n",
    "X_train_scaled = X_train.copy()\n",
    "X_test_scaled = X_test.copy()\n",
    "\n",
    "X_train_scaled[:, numerical_features] = scaler.fit_transform(X_train[:, numerical_features])\n",
    "X_test_scaled[:, numerical_features] = scaler.transform(X_test[:, numerical_features])\n",
    "\n",
    "# Convert data to PyTorch tensors\n",
    "X_train_tensor = torch.tensor(X_train_scaled, dtype=torch.float32)\n",
    "y_train_tensor = torch.tensor(y_train, dtype=torch.float32)\n",
    "X_test_tensor = torch.tensor(X_test_scaled, dtype=torch.float32)\n",
    "y_test_tensor = torch.tensor(y_test, dtype=torch.float32)\n",
    "\n",
    "# ... Rest of the code remains the same ...\n",
    "\n",
    "\n",
    "# Define the neural network architecture\n",
    "class DeepNeuralNetwork(nn.Module):\n",
    "    def __init__(self, input_size, dropout_rate=0.5, weight_decay=0.001):\n",
    "        super(DeepNeuralNetwork, self).__init__()\n",
    "        self.layer1 = nn.Linear(input_size, 128)\n",
    "        self.layer2 = nn.Linear(128, 64)\n",
    "        self.layer3 = nn.Linear(64, 32)\n",
    "        self.output_layer = nn.Linear(32, 1)\n",
    "        self.relu = nn.ReLU()\n",
    "        self.sigmoid = nn.Sigmoid()\n",
    "        self.dropout = nn.Dropout(p=dropout_rate)\n",
    "        self.weight_decay = weight_decay\n",
    "\n",
    "    def forward(self, x):\n",
    "        x = self.relu(self.layer1(x))\n",
    "        x = self.dropout(x)\n",
    "        x = self.relu(self.layer2(x))\n",
    "        x = self.dropout(x)\n",
    "        x = self.relu(self.layer3(x))\n",
    "        x = self.dropout(x)\n",
    "        x = self.sigmoid(self.output_layer(x))\n",
    "        return x\n",
    "\n",
    "input_size = X_train.shape[1]\n",
    "model = DeepNeuralNetwork(input_size=X_train.shape[1], dropout_rate=0.5, weight_decay=0.001)\n",
    "\n",
    "\n",
    "# Define loss function and optimizer\n",
    "criterion = nn.BCELoss()  # Binary Cross-Entropy loss\n",
    "optimizer = optim.Adam(model.parameters(), lr=0.001, weight_decay=0.001)\n",
    "\n",
    "# Training loop\n",
    "num_epochs = 1000\n",
    "train_losses = []\n",
    "best_f1 = 0.0 \n",
    "best_model_state = None\n",
    "\n",
    "progress_bar = tqdm(range(num_epochs), unit=\"epoch\")\n",
    "\n",
    "for epoch in progress_bar:\n",
    "    optimizer.zero_grad()\n",
    "    outputs = model(X_train_tensor)\n",
    "    loss = criterion(outputs, y_train_tensor.view(-1, 1))\n",
    "    loss.backward()\n",
    "    optimizer.step()\n",
    "    train_losses.append(loss.item())\n",
    "    \n",
    "    # Update the tqdm progress bar\n",
    "    progress_bar.set_postfix({\"Loss\": f\"{loss.item():.4f}\"})\n",
    "\n",
    "# Testing and evaluation\n",
    "with torch.no_grad():\n",
    "    model.eval()\n",
    "    y_pred_prob = model(X_test_tensor)\n",
    "    y_pred = (y_pred_prob >= 0.5).float()\n",
    "    val_f1 = f1_score(y_test, y_pred)\n",
    "    \n",
    "    if val_f1 > best_f1:\n",
    "        best_f1 = val_f1\n",
    "        best_model_state = model.state_dict().copy()\n",
    "    \n",
    "    progress_bar.set_postfix({\"Loss\": f\"{loss.item():.4f}\", \"Val F1\": f\"{val_f1:.4f}\"})\n",
    "\n",
    "    \n",
    "if best_model_state is not None:\n",
    "    model.load_state_dict(best_model_state)   \n",
    "\n",
    "accuracy = accuracy_score(y_test, y_pred)\n",
    "f1 = f1_score(y_test, y_pred)\n",
    "roc_auc = roc_auc_score(y_test, y_pred_prob)\n",
    "\n",
    "# ROC-AUC curve\n",
    "fpr, tpr, _ = roc_curve(y_test, y_pred_prob)\n",
    "roc_auc_curve = auc(fpr, tpr)\n",
    "\n",
    "# Visualize losses and metrics\n",
    "plt.figure(figsize=(12, 5))\n",
    "plt.subplot(1, 2, 1)\n",
    "plt.plot(train_losses, label='Training Loss')\n",
    "plt.xlabel('Epoch')\n",
    "plt.ylabel('Loss')\n",
    "plt.legend()\n",
    "\n",
    "plt.subplot(1, 2, 2)\n",
    "plt.plot(fpr, tpr, label=f'ROC Curve (AUC = {roc_auc_curve:.2f})')\n",
    "plt.plot([0, 1], [0, 1], 'k--')\n",
    "plt.xlabel('False Positive Rate')\n",
    "plt.ylabel('True Positive Rate')\n",
    "plt.title('Receiver Operating Characteristic')\n",
    "plt.legend()\n",
    "\n",
    "plt.tight_layout()\n",
    "plt.show()\n",
    "\n",
    "print(f\"Accuracy: {accuracy:.4f}\")\n",
    "print(f\"F1 Score: {f1:.4f}\")\n",
    "print(f\"ROC AUC: {roc_auc:.4f}\")\n"
   ]
  },
  {
   "cell_type": "code",
   "execution_count": null,
   "id": "876238e6",
   "metadata": {},
   "outputs": [],
   "source": [
    "if best_model_state is not None:\n",
    "    model.load_state_dict(best_model_state)   \n",
    "\n",
    "accuracy = accuracy_score(y_test, y_pred)\n",
    "f1 = f1_score(y_test, y_pred)\n",
    "roc_auc = roc_auc_score(y_test, y_pred_prob)\n",
    "\n",
    "# ROC-AUC curve\n",
    "fpr, tpr, _ = roc_curve(y_test, y_pred_prob)\n",
    "roc_auc_curve = auc(fpr, tpr)\n",
    "\n",
    "# Visualize losses and metrics\n",
    "plt.figure(figsize=(12, 5))\n",
    "plt.subplot(1, 2, 1)\n",
    "plt.plot(train_losses, label='Training Loss')\n",
    "plt.xlabel('Epoch')\n",
    "plt.ylabel('Loss')\n",
    "plt.legend()\n",
    "\n",
    "plt.subplot(1, 2, 2)\n",
    "plt.plot(fpr, tpr, label=f'ROC Curve (AUC = {roc_auc_curve:.2f})')\n",
    "plt.plot([0, 1], [0, 1], 'k--')\n",
    "plt.xlabel('False Positive Rate')\n",
    "plt.ylabel('True Positive Rate')\n",
    "plt.title('Receiver Operating Characteristic')\n",
    "plt.legend()\n",
    "\n",
    "plt.tight_layout()\n",
    "plt.show()\n",
    "\n",
    "print(f\"Accuracy: {accuracy:.4f}\")\n",
    "print(f\"F1 Score: {f1:.4f}\")\n",
    "print(f\"ROC AUC: {roc_auc:.4f}\")"
   ]
  },
  {
   "cell_type": "code",
   "execution_count": 52,
   "id": "c8d1b7be",
   "metadata": {},
   "outputs": [
    {
     "data": {
      "image/png": "[encoded data removed]",
      "text/plain": [
       "<Figure size 432x432 with 1 Axes>"
      ]
     },
     "metadata": {
      "needs_background": "light"
     },
     "output_type": "display_data"
    }
   ],
   "source": [
    "confusion = confusion_matrix(y_test, y_pred)\n",
    "\n",
    "plt.figure(figsize=(6, 6))\n",
    "sns.heatmap(confusion, annot=True, fmt=\"d\", cmap=\"Blues\", cbar=False)\n",
    "plt.xlabel('Predicted')\n",
    "plt.ylabel('True')\n",
    "plt.title('Confusion Matrix')\n",
    "plt.show()"
   ]
  },
  {
   "cell_type": "code",
   "execution_count": 205,
   "id": "27d0eaa2",
   "metadata": {
    "scrolled": true
   },
   "outputs": [
    {
     "name": "stderr",
     "output_type": "stream",
     "text": [
      "C:\\Users\\DAytkali\\AppData\\Local\\Temp/ipykernel_10564/1058719809.py:3: DataConversionWarning: A column-vector y was passed when a 1d array was expected. Please change the shape of y to (n_samples,), for example using ravel().\n",
      "  model.fit(x_train, y_train)\n"
     ]
    },
    {
     "name": "stdout",
     "output_type": "stream",
     "text": [
      "Feature: 0, Score: 0.35318\n",
      "Feature: 1, Score: 0.07942\n",
      "Feature: 2, Score: 0.01050\n",
      "Feature: 3, Score: 0.02426\n",
      "Feature: 4, Score: 0.02742\n",
      "Feature: 5, Score: 0.16904\n",
      "Feature: 6, Score: 0.11374\n",
      "Feature: 7, Score: 0.07387\n",
      "Feature: 8, Score: 0.14858\n",
      "feature: AGE, importance: 0.35318273921992593\n",
      "feature: CHILDREN_CNT, importance: 0.07941552587149978\n",
      "feature: IS_CAR_FLG, importance: 0.010495382657592882\n",
      "feature: EDUCATION_Высшее, importance: 0.02426455016377676\n",
      "feature: ADD_INCOME_AMT_>=90000, importance: 0.027417952380603593\n",
      "feature: CLIENT_INCOME_AMT_>=260000, importance: 0.16904160839235108\n",
      "feature: CARD_CUR_CNT_>=2, importance: 0.11373663531352056\n",
      "feature: MAX_CREDIT_REST_HY2_>=86000, importance: 0.07386580734347527\n",
      "feature: CUR_CREDIT_AMT_>=350000, importance: 0.1485797986572542\n"
     ]
    },
    {
     "data": {
      "image/png": "[encoded data removed]",
      "text/plain": [
       "<Figure size 1440x504 with 1 Axes>"
      ]
     },
     "metadata": {
      "needs_background": "light"
     },
     "output_type": "display_data"
    }
   ],
   "source": [
    "model = RandomForestClassifier()\n",
    "\n",
    "model.fit(x_train, y_train)\n",
    "\n",
    "f_importance = model.feature_importances_\n",
    "\n",
    "for i,v in enumerate(f_importance):\n",
    "    print('Feature: %0d, Score: %.5f' % (i,v))\n",
    "    \n",
    "for feat, importance in zip(x_train.columns, model.feature_importances_):\n",
    "    print('feature: {f}, importance: {i}'.format(f=feat, i=importance))\n",
    "\n",
    "fig = plt.figure(figsize =(20, 7))\n",
    "\n",
    "plt.bar([x for x in x_train.columns], f_importance)\n",
    "plt.show()"
   ]
  },
  {
   "cell_type": "code",
   "execution_count": 206,
   "id": "403f9beb",
   "metadata": {},
   "outputs": [
    {
     "data": {
      "text/html": [
       "<style>#sk-container-id-1 {color: black;background-color: white;}#sk-container-id-1 pre{padding: 0;}#sk-container-id-1 div.sk-toggleable {background-color: white;}#sk-container-id-1 label.sk-toggleable__label {cursor: pointer;display: block;width: 100%;margin-bottom: 0;padding: 0.3em;box-sizing: border-box;text-align: center;}#sk-container-id-1 label.sk-toggleable__label-arrow:before {content: \"▸\";float: left;margin-right: 0.25em;color: #696969;}#sk-container-id-1 label.sk-toggleable__label-arrow:hover:before {color: black;}#sk-container-id-1 div.sk-estimator:hover label.sk-toggleable__label-arrow:before {color: black;}#sk-container-id-1 div.sk-toggleable__content {max-height: 0;max-width: 0;overflow: hidden;text-align: left;background-color: #f0f8ff;}#sk-container-id-1 div.sk-toggleable__content pre {margin: 0.2em;color: black;border-radius: 0.25em;background-color: #f0f8ff;}#sk-container-id-1 input.sk-toggleable__control:checked~div.sk-toggleable__content {max-height: 200px;max-width: 100%;overflow: auto;}#sk-container-id-1 input.sk-toggleable__control:checked~label.sk-toggleable__label-arrow:before {content: \"▾\";}#sk-container-id-1 div.sk-estimator input.sk-toggleable__control:checked~label.sk-toggleable__label {background-color: #d4ebff;}#sk-container-id-1 div.sk-label input.sk-toggleable__control:checked~label.sk-toggleable__label {background-color: #d4ebff;}#sk-container-id-1 input.sk-hidden--visually {border: 0;clip: rect(1px 1px 1px 1px);clip: rect(1px, 1px, 1px, 1px);height: 1px;margin: -1px;overflow: hidden;padding: 0;position: absolute;width: 1px;}#sk-container-id-1 div.sk-estimator {font-family: monospace;background-color: #f0f8ff;border: 1px dotted black;border-radius: 0.25em;box-sizing: border-box;margin-bottom: 0.5em;}#sk-container-id-1 div.sk-estimator:hover {background-color: #d4ebff;}#sk-container-id-1 div.sk-parallel-item::after {content: \"\";width: 100%;border-bottom: 1px solid gray;flex-grow: 1;}#sk-container-id-1 div.sk-label:hover label.sk-toggleable__label {background-color: #d4ebff;}#sk-container-id-1 div.sk-serial::before {content: \"\";position: absolute;border-left: 1px solid gray;box-sizing: border-box;top: 0;bottom: 0;left: 50%;z-index: 0;}#sk-container-id-1 div.sk-serial {display: flex;flex-direction: column;align-items: center;background-color: white;padding-right: 0.2em;padding-left: 0.2em;position: relative;}#sk-container-id-1 div.sk-item {position: relative;z-index: 1;}#sk-container-id-1 div.sk-parallel {display: flex;align-items: stretch;justify-content: center;background-color: white;position: relative;}#sk-container-id-1 div.sk-item::before, #sk-container-id-1 div.sk-parallel-item::before {content: \"\";position: absolute;border-left: 1px solid gray;box-sizing: border-box;top: 0;bottom: 0;left: 50%;z-index: -1;}#sk-container-id-1 div.sk-parallel-item {display: flex;flex-direction: column;z-index: 1;position: relative;background-color: white;}#sk-container-id-1 div.sk-parallel-item:first-child::after {align-self: flex-end;width: 50%;}#sk-container-id-1 div.sk-parallel-item:last-child::after {align-self: flex-start;width: 50%;}#sk-container-id-1 div.sk-parallel-item:only-child::after {width: 0;}#sk-container-id-1 div.sk-dashed-wrapped {border: 1px dashed gray;margin: 0 0.4em 0.5em 0.4em;box-sizing: border-box;padding-bottom: 0.4em;background-color: white;}#sk-container-id-1 div.sk-label label {font-family: monospace;font-weight: bold;display: inline-block;line-height: 1.2em;}#sk-container-id-1 div.sk-label-container {text-align: center;}#sk-container-id-1 div.sk-container {/* jupyter's `normalize.less` sets `[hidden] { display: none; }` but bootstrap.min.css set `[hidden] { display: none !important; }` so we also need the `!important` here to be able to override the default hidden behavior on the sphinx rendered scikit-learn.org. See: https://github.com/scikit-learn/scikit-learn/issues/21755 */display: inline-block !important;position: relative;}#sk-container-id-1 div.sk-text-repr-fallback {display: none;}</style><div id=\"sk-container-id-1\" class=\"sk-top-container\"><div class=\"sk-text-repr-fallback\"><pre>XGBClassifier(base_score=0.5, booster=&#x27;gbtree&#x27;, callbacks=None,\n",
       "              colsample_bylevel=1, colsample_bynode=1, colsample_bytree=1,\n",
       "              early_stopping_rounds=None, enable_categorical=False,\n",
       "              eval_metric=None, gamma=0, gpu_id=-1, grow_policy=&#x27;depthwise&#x27;,\n",
       "              importance_type=None, interaction_constraints=&#x27;&#x27;,\n",
       "              learning_rate=0.300000012, max_bin=256, max_cat_to_onehot=4,\n",
       "              max_delta_step=0, max_depth=6, max_leaves=0, min_child_weight=1,\n",
       "              missing=nan, monotone_constraints=&#x27;()&#x27;, n_estimators=100,\n",
       "              n_jobs=0, num_parallel_tree=1, predictor=&#x27;auto&#x27;, random_state=0,\n",
       "              reg_alpha=0, reg_lambda=1, ...)</pre><b>In a Jupyter environment, please rerun this cell to show the HTML representation or trust the notebook. <br />On GitHub, the HTML representation is unable to render, please try loading this page with nbviewer.org.</b></div><div class=\"sk-container\" hidden><div class=\"sk-item\"><div class=\"sk-estimator sk-toggleable\"><input class=\"sk-toggleable__control sk-hidden--visually\" id=\"sk-estimator-id-1\" type=\"checkbox\" checked><label for=\"sk-estimator-id-1\" class=\"sk-toggleable__label sk-toggleable__label-arrow\">XGBClassifier</label><div class=\"sk-toggleable__content\"><pre>XGBClassifier(base_score=0.5, booster=&#x27;gbtree&#x27;, callbacks=None,\n",
       "              colsample_bylevel=1, colsample_bynode=1, colsample_bytree=1,\n",
       "              early_stopping_rounds=None, enable_categorical=False,\n",
       "              eval_metric=None, gamma=0, gpu_id=-1, grow_policy=&#x27;depthwise&#x27;,\n",
       "              importance_type=None, interaction_constraints=&#x27;&#x27;,\n",
       "              learning_rate=0.300000012, max_bin=256, max_cat_to_onehot=4,\n",
       "              max_delta_step=0, max_depth=6, max_leaves=0, min_child_weight=1,\n",
       "              missing=nan, monotone_constraints=&#x27;()&#x27;, n_estimators=100,\n",
       "              n_jobs=0, num_parallel_tree=1, predictor=&#x27;auto&#x27;, random_state=0,\n",
       "              reg_alpha=0, reg_lambda=1, ...)</pre></div></div></div></div></div>"
      ],
      "text/plain": [
       "XGBClassifier(base_score=0.5, booster='gbtree', callbacks=None,\n",
       "              colsample_bylevel=1, colsample_bynode=1, colsample_bytree=1,\n",
       "              early_stopping_rounds=None, enable_categorical=False,\n",
       "              eval_metric=None, gamma=0, gpu_id=-1, grow_policy='depthwise',\n",
       "              importance_type=None, interaction_constraints='',\n",
       "              learning_rate=0.300000012, max_bin=256, max_cat_to_onehot=4,\n",
       "              max_delta_step=0, max_depth=6, max_leaves=0, min_child_weight=1,\n",
       "              missing=nan, monotone_constraints='()', n_estimators=100,\n",
       "              n_jobs=0, num_parallel_tree=1, predictor='auto', random_state=0,\n",
       "              reg_alpha=0, reg_lambda=1, ...)"
      ]
     },
     "execution_count": 206,
     "metadata": {},
     "output_type": "execute_result"
    }
   ],
   "source": [
    "dt_clf = XGBClassifier()\n",
    "dt_clf.fit(x_train, y_train)"
   ]
  },
  {
   "cell_type": "markdown",
   "id": "1c8bec66",
   "metadata": {},
   "source": [
    "Train"
   ]
  },
  {
   "cell_type": "code",
   "execution_count": 207,
   "id": "3909bf70",
   "metadata": {},
   "outputs": [
    {
     "data": {
      "image/png": "[encoded data removed]",
      "text/plain": [
       "<Figure size 360x360 with 1 Axes>"
      ]
     },
     "metadata": {
      "needs_background": "light"
     },
     "output_type": "display_data"
    },
    {
     "name": "stdout",
     "output_type": "stream",
     "text": [
      "Precision: 0.757\n",
      "Recall: 0.708\n",
      "Accuracy: 0.741\n",
      "F1 Score: 0.732\n"
     ]
    },
    {
     "data": {
      "image/png": "[encoded data removed]",
      "text/plain": [
       "<Figure size 432x288 with 1 Axes>"
      ]
     },
     "metadata": {
      "needs_background": "light"
     },
     "output_type": "display_data"
    }
   ],
   "source": [
    "y_train_pred = dt_clf.predict(x_train)\n",
    "\n",
    "conf_matrix = confusion_matrix(y_true=y_train, y_pred=y_train_pred) \n",
    "fig, ax = plt.subplots(figsize=(5, 5)) \n",
    "ax.matshow(conf_matrix, cmap=plt.cm.Oranges, alpha=0.3) \n",
    "\n",
    "for i in range(conf_matrix.shape[0]): \n",
    "    for j in range(conf_matrix.shape[1]):\n",
    "        ax.text(x=j, y=i,s=conf_matrix[i, j], va='center', ha='center', size='xx-large') \n",
    "        \n",
    "plt.xlabel('Predictions', fontsize=18) \n",
    "plt.ylabel('Actuals', fontsize=18) \n",
    "plt.title('Confusion Matrix', fontsize=18)\n",
    "plt.show()\n",
    "\n",
    "print('Precision: %.3f' % precision_score(y_train, y_train_pred))\n",
    "print('Recall: %.3f' % recall_score(y_train, y_train_pred))\n",
    "print('Accuracy: %.3f' % accuracy_score(y_train, y_train_pred))\n",
    "print('F1 Score: %.3f' % f1_score(y_train, y_train_pred))\n",
    "\n",
    "fpr, tpr, _ = metrics.roc_curve(y_train,  y_train_pred)\n",
    "auc = metrics.roc_auc_score(y_train, y_train_pred)\n",
    "plt.plot(fpr,tpr,label=\"data 1, auc=\"+str(auc))\n",
    "plt.legend(loc=4)\n",
    "plt.show()"
   ]
  },
  {
   "cell_type": "markdown",
   "id": "b0184ef0",
   "metadata": {},
   "source": [
    "Test"
   ]
  },
  {
   "cell_type": "code",
   "execution_count": 208,
   "id": "898cd05b",
   "metadata": {},
   "outputs": [
    {
     "data": {
      "image/png": "[encoded data removed]",
      "text/plain": [
       "<Figure size 360x360 with 1 Axes>"
      ]
     },
     "metadata": {
      "needs_background": "light"
     },
     "output_type": "display_data"
    },
    {
     "name": "stdout",
     "output_type": "stream",
     "text": [
      "Precision: 0.417\n",
      "Recall: 0.704\n",
      "Accuracy: 0.755\n",
      "F1 Score: 0.523\n"
     ]
    },
    {
     "data": {
      "image/png": "[encoded data removed]",
      "text/plain": [
       "<Figure size 432x288 with 1 Axes>"
      ]
     },
     "metadata": {
      "needs_background": "light"
     },
     "output_type": "display_data"
    }
   ],
   "source": [
    "y_test_pred = dt_clf.predict(x_test)\n",
    "\n",
    "conf_matrix = confusion_matrix(y_true=y_test, y_pred=y_test_pred) \n",
    "fig, ax = plt.subplots(figsize=(5, 5)) \n",
    "ax.matshow(conf_matrix, cmap=plt.cm.Oranges, alpha=0.3)\n",
    "\n",
    "for i in range(conf_matrix.shape[0]): \n",
    "    for j in range(conf_matrix.shape[1]):\n",
    "        ax.text(x=j, y=i,s=conf_matrix[i, j], va='center', ha='center', size='xx-large') \n",
    "        \n",
    "plt.xlabel('Predictions', fontsize=18) \n",
    "plt.ylabel('Actuals', fontsize=18)\n",
    "plt.title('Confusion Matrix', fontsize=18)\n",
    "plt.show()\n",
    "\n",
    "print('Precision: %.3f' % precision_score(y_test, y_test_pred))\n",
    "print('Recall: %.3f' % recall_score(y_test, y_test_pred))\n",
    "print('Accuracy: %.3f' % accuracy_score(y_test, y_test_pred))\n",
    "print('F1 Score: %.3f' % f1_score(y_test, y_test_pred))\n",
    "\n",
    "fpr, tpr, _ = metrics.roc_curve(y_test,  y_test_pred)\n",
    "auc = metrics.roc_auc_score(y_test, y_test_pred)\n",
    "plt.plot(fpr,tpr,label=\"data 1, auc=\"+str(auc))\n",
    "plt.legend(loc=4)\n",
    "plt.show()"
   ]
  },
  {
   "cell_type": "code",
   "execution_count": 8,
   "id": "ef0bf0bd",
   "metadata": {},
   "outputs": [
    {
     "name": "stdout",
     "output_type": "stream",
     "text": [
      "[LightGBM] [Warning] Found boosting=goss. For backwards compatibility reasons, LightGBM interprets this as boosting=gbdt, data_sample_strategy=goss.To suppress this warning, set data_sample_strategy=goss instead.\n",
      "[LightGBM] [Warning] Found boosting=goss. For backwards compatibility reasons, LightGBM interprets this as boosting=gbdt, data_sample_strategy=goss.To suppress this warning, set data_sample_strategy=goss instead.\n",
      "[LightGBM] [Info] Number of positive: 56762, number of negative: 56762\n",
      "[LightGBM] [Warning] Auto-choosing row-wise multi-threading, the overhead of testing was 0.004297 seconds.\n",
      "You can set `force_row_wise=true` to remove the overhead.\n",
      "And if memory is not enough, you can set `force_col_wise=true`.\n",
      "[LightGBM] [Info] Total Bins 85\n",
      "[LightGBM] [Info] Number of data points in the train set: 113524, number of used features: 8\n",
      "[LightGBM] [Info] Using GOSS\n",
      "[LightGBM] [Warning] Found boosting=goss. For backwards compatibility reasons, LightGBM interprets this as boosting=gbdt, data_sample_strategy=goss.To suppress this warning, set data_sample_strategy=goss instead.\n",
      "[LightGBM] [Info] [binary:BoostFromScore]: pavg=0.500000 -> initscore=0.000000\n"
     ]
    },
    {
     "data": {
      "image/png": "[encoded data removed]",
      "text/plain": [
       "<Figure size 432x288 with 1 Axes>"
      ]
     },
     "metadata": {
      "needs_background": "light"
     },
     "output_type": "display_data"
    },
    {
     "data": {
      "image/png": "[encoded data removed]",
      "text/plain": [
       "<Figure size 576x432 with 1 Axes>"
      ]
     },
     "metadata": {
      "needs_background": "light"
     },
     "output_type": "display_data"
    },
    {
     "name": "stdout",
     "output_type": "stream",
     "text": [
      "Accuracy: 0.7562\n",
      "Recall: 0.6969\n",
      "Precision: 0.4169\n",
      "F1-Score: 0.5217\n"
     ]
    }
   ],
   "source": [
    "from sklearn.ensemble import BaggingClassifier\n",
    "from sklearn.ensemble import GradientBoostingClassifier\n",
    "from sklearn.tree import DecisionTreeClassifier\n",
    "from xgboost import XGBClassifier\n",
    "from sklearn.neighbors import KNeighborsClassifier\n",
    "from sklearn.ensemble import RandomForestClassifier\n",
    "from imblearn.over_sampling import RandomOverSampler\n",
    "from imblearn.under_sampling import RandomUnderSampler\n",
    "from imblearn.under_sampling import ClusterCentroids\n",
    "from imblearn.under_sampling import CondensedNearestNeighbour\n",
    "from imblearn.under_sampling import RandomUnderSampler\n",
    "import lightgbm as lgb\n",
    "from sklearn.metrics import accuracy_score, recall_score, precision_score, f1_score, roc_curve, auc, confusion_matrix\n",
    "import matplotlib.pyplot as plt\n",
    "import seaborn as sns\n",
    "\n",
    "X = df.drop('Target',axis=1)\n",
    "y = df[['Target']]\n",
    "\n",
    "X_train, X_test, y_train, y_test = train_test_split(X, y, test_size=0.2, random_state=42)\n",
    "\n",
    "rus = RandomUnderSampler(random_state=42)\n",
    "x_res, y_res = rus.fit_resample(X_train, y_train)\n",
    "x_res.index = X_train.index[rus.sample_indices_]\n",
    "y_res.index = y_train.index[rus.sample_indices_]\n",
    "\n",
    "X_train = x_res\n",
    "y_train = y_res\n",
    "\n",
    "# Create a LightGBM dataset\n",
    "train_data = lgb.Dataset(X_train, label=y_train)\n",
    "test_data = lgb.Dataset(X_test, label=y_test, reference=train_data)\n",
    "\n",
    "# Define LightGBM parameters\n",
    "params = {\n",
    "    'objective': 'binary',\n",
    "    'metric': 'auc',  # You can change this metric\n",
    "    'boosting_type': 'goss',\n",
    "    'num_leaves': 60,\n",
    "    'learning_rate': 0.05,\n",
    "    'feature_fraction': 0.9\n",
    "}\n",
    "\n",
    "# Train the LightGBM model\n",
    "num_round = 500\n",
    "bst = lgb.train(params, train_data, num_round, valid_sets=[test_data])\n",
    "\n",
    "# Predict on the test set\n",
    "y_pred_prob = bst.predict(X_test)\n",
    "y_pred = (y_pred_prob > 0.5).astype(int)\n",
    "\n",
    "# Calculate evaluation metrics\n",
    "accuracy = accuracy_score(y_test, y_pred)\n",
    "recall = recall_score(y_test, y_pred)\n",
    "precision = precision_score(y_test, y_pred)\n",
    "f1 = f1_score(y_test, y_pred)\n",
    "\n",
    "# Plot ROC-AUC curve\n",
    "fpr, tpr, _ = roc_curve(y_test, y_pred_prob)\n",
    "roc_auc = auc(fpr, tpr)\n",
    "plt.figure()\n",
    "plt.plot(fpr, tpr, color='darkorange', lw=2, label='ROC curve (area = %0.2f)' % roc_auc)\n",
    "plt.plot([0, 1], [0, 1], color='navy', lw=2, linestyle='--')\n",
    "plt.xlim([0.0, 1.0])\n",
    "plt.ylim([0.0, 1.05])\n",
    "plt.xlabel('False Positive Rate')\n",
    "plt.ylabel('True Positive Rate')\n",
    "plt.title('Receiver Operating Characteristic')\n",
    "plt.legend(loc=\"lower right\")\n",
    "plt.show()\n",
    "\n",
    "# Plot confusion matrix\n",
    "cm = confusion_matrix(y_test, y_pred)\n",
    "plt.figure(figsize=(8, 6))\n",
    "sns.heatmap(cm, annot=True, fmt=\"d\", cmap=\"Blues\", cbar=False)\n",
    "plt.xlabel(\"Predicted\")\n",
    "plt.ylabel(\"Actual\")\n",
    "plt.title(\"Confusion Matrix\")\n",
    "plt.show()\n",
    "\n",
    "# Print evaluation metrics\n",
    "print(f\"Accuracy: {accuracy:.4f}\")\n",
    "print(f\"Recall: {recall:.4f}\")\n",
    "print(f\"Precision: {precision:.4f}\")\n",
    "print(f\"F1-Score: {f1:.4f}\")\n"
   ]
  },
  {
   "cell_type": "code",
   "execution_count": 44,
   "id": "519033c7",
   "metadata": {},
   "outputs": [
    {
     "name": "stdout",
     "output_type": "stream",
     "text": [
      "Feature: AGE, Importance: 0.3515\n",
      "Feature: ADD_INCOME_AMT_>=90000, Importance: 0.0072\n",
      "Feature: CARD_CUR_CNT_>=2, Importance: -0.0054\n",
      "Feature: CUR_CREDIT_AMT_>=350000, Importance: -0.0064\n",
      "Feature: EDUCATION_Высшее, Importance: -0.0087\n",
      "Feature: CHILDREN_CNT, Importance: -0.0103\n",
      "Feature: MAX_CREDIT_REST_HY2_>=86000, Importance: -0.0208\n",
      "Feature: CLIENT_INCOME_AMT_>=260000, Importance: -0.0330\n"
     ]
    }
   ],
   "source": [
    "from sklearn.inspection import permutation_importance\n",
    "\n",
    "baseline_accuracy = accuracy_score(y_test, y_pred)\n",
    "feature_importances = []\n",
    "\n",
    "for feature in X_test.columns:\n",
    "    X_permuted = X_test.copy()\n",
    "    X_permuted[feature] = X_permuted[feature].sample(frac=1, replace=False).reset_index(drop=True)\n",
    "    y_pred_permuted = (bst.predict(X_permuted) > 0.5).astype(int)\n",
    "    permuted_accuracy = accuracy_score(y_test, y_pred_permuted)\n",
    "    feature_importance = baseline_accuracy - permuted_accuracy\n",
    "    feature_importances.append((feature, feature_importance))\n",
    "\n",
    "# Sort and display feature importances\n",
    "feature_importances.sort(key = lambda x: x[1], reverse=True)\n",
    "for feature, importance in feature_importances:\n",
    "    print(f\"Feature: {feature}, Importance: {importance:.4f}\")"
   ]
  },
  {
   "cell_type": "code",
   "execution_count": 3,
   "id": "426faeea",
   "metadata": {},
   "outputs": [],
   "source": [
    "df.loc[((df['AGE']>=75) ,'AGE')]=75\n",
    "df.loc[((df['AGE']<=18) ,'AGE')]=18"
   ]
  },
  {
   "cell_type": "code",
   "execution_count": 15,
   "id": "39695390",
   "metadata": {},
   "outputs": [],
   "source": [
    "df1 = df.copy()\n",
    "\n",
    "#df1['TR_LAST_SMBANK_DAYS_CNT'] = np.ceil(df1['TR_LAST_SMBANK_DAYS_CNT'])\n",
    "#df1 = divide_by_steps(df1, 'TR_LAST_SMBANK_DAYS_CNT', step = 30, aftermax = 360)\n",
    "\n",
    "#df1.loc[((df1['TR_SMBANK_OPER_CNT_HY2']<0) ,'TR_SMBANK_OPER_CNT_HY2')]=0\n",
    "#df1 = divide_by_steps(df1, 'TR_SMBANK_OPER_CNT_HY2', step = 50, aftermax = 300)"
   ]
  },
  {
   "cell_type": "code",
   "execution_count": 17,
   "id": "fa6f96ab",
   "metadata": {
    "scrolled": true
   },
   "outputs": [
    {
     "data": {
      "text/html": [
       "<div>\n",
       "<style scoped>\n",
       "    .dataframe tbody tr th:only-of-type {\n",
       "        vertical-align: middle;\n",
       "    }\n",
       "\n",
       "    .dataframe tbody tr th {\n",
       "        vertical-align: top;\n",
       "    }\n",
       "\n",
       "    .dataframe thead th {\n",
       "        text-align: right;\n",
       "    }\n",
       "</style>\n",
       "<table border=\"1\" class=\"dataframe\">\n",
       "  <thead>\n",
       "    <tr style=\"text-align: right;\">\n",
       "      <th>Target</th>\n",
       "      <th>0</th>\n",
       "      <th>1</th>\n",
       "    </tr>\n",
       "    <tr>\n",
       "      <th>CUR_CREDIT_AMT</th>\n",
       "      <th></th>\n",
       "      <th></th>\n",
       "    </tr>\n",
       "  </thead>\n",
       "  <tbody>\n",
       "    <tr>\n",
       "      <th>-79640.92</th>\n",
       "      <td>1.0</td>\n",
       "      <td>NaN</td>\n",
       "    </tr>\n",
       "    <tr>\n",
       "      <th>-50480.00</th>\n",
       "      <td>1.0</td>\n",
       "      <td>NaN</td>\n",
       "    </tr>\n",
       "    <tr>\n",
       "      <th>-25875.00</th>\n",
       "      <td>1.0</td>\n",
       "      <td>NaN</td>\n",
       "    </tr>\n",
       "    <tr>\n",
       "      <th>-16094.00</th>\n",
       "      <td>NaN</td>\n",
       "      <td>1.0</td>\n",
       "    </tr>\n",
       "    <tr>\n",
       "      <th>-10610.00</th>\n",
       "      <td>1.0</td>\n",
       "      <td>NaN</td>\n",
       "    </tr>\n",
       "    <tr>\n",
       "      <th>...</th>\n",
       "      <td>...</td>\n",
       "      <td>...</td>\n",
       "    </tr>\n",
       "    <tr>\n",
       "      <th>36644093.89</th>\n",
       "      <td>NaN</td>\n",
       "      <td>1.0</td>\n",
       "    </tr>\n",
       "    <tr>\n",
       "      <th>36845255.05</th>\n",
       "      <td>1.0</td>\n",
       "      <td>NaN</td>\n",
       "    </tr>\n",
       "    <tr>\n",
       "      <th>38127793.49</th>\n",
       "      <td>1.0</td>\n",
       "      <td>NaN</td>\n",
       "    </tr>\n",
       "    <tr>\n",
       "      <th>38143578.35</th>\n",
       "      <td>1.0</td>\n",
       "      <td>NaN</td>\n",
       "    </tr>\n",
       "    <tr>\n",
       "      <th>39798794.48</th>\n",
       "      <td>1.0</td>\n",
       "      <td>NaN</td>\n",
       "    </tr>\n",
       "  </tbody>\n",
       "</table>\n",
       "<p>61519 rows × 2 columns</p>\n",
       "</div>"
      ],
      "text/plain": [
       "Target            0    1\n",
       "CUR_CREDIT_AMT          \n",
       "-79640.92       1.0  NaN\n",
       "-50480.00       1.0  NaN\n",
       "-25875.00       1.0  NaN\n",
       "-16094.00       NaN  1.0\n",
       "-10610.00       1.0  NaN\n",
       "...             ...  ...\n",
       " 36644093.89    NaN  1.0\n",
       " 36845255.05    1.0  NaN\n",
       " 38127793.49    1.0  NaN\n",
       " 38143578.35    1.0  NaN\n",
       " 39798794.48    1.0  NaN\n",
       "\n",
       "[61519 rows x 2 columns]"
      ]
     },
     "execution_count": 17,
     "metadata": {},
     "output_type": "execute_result"
    }
   ],
   "source": [
    "subset = df1.reset_index()\n",
    "subset.pivot_table(index='CUR_CREDIT_AMT', columns = 'Target', values = 'CLIENT_ID', aggfunc = 'count')"
   ]
  },
  {
   "cell_type": "code",
   "execution_count": 24,
   "id": "cb14abe9",
   "metadata": {},
   "outputs": [
    {
     "name": "stdout",
     "output_type": "stream",
     "text": [
      "Information value of CARD_CUR_CNT is 0.287\n",
      "       Variable         Cutoff       N  Events       WoE        IV\n",
      "0  CARD_CUR_CNT  (-0.001, 1.0]  344201   56547 -0.184372  0.029766\n",
      "1  CARD_CUR_CNT   (1.0, 171.0]   26713   14367  1.593916  0.257329\n"
     ]
    },
    {
     "data": {
      "image/png": "[encoded data removed]",
      "text/plain": [
       "<Figure size 864x720 with 1 Axes>"
      ]
     },
     "metadata": {
      "needs_background": "light"
     },
     "output_type": "display_data"
    }
   ],
   "source": [
    "plot_woe(df1, bins = 5, column = 'CARD_CUR_CNT')"
   ]
  },
  {
   "cell_type": "code",
   "execution_count": 45,
   "id": "d330b1ae",
   "metadata": {},
   "outputs": [
    {
     "name": "stdout",
     "output_type": "stream",
     "text": [
      "Feature Importance based on Gain:\n",
      "                       Feature  Gain_Importance\n",
      "0                          AGE    265939.792236\n",
      "4   CLIENT_INCOME_AMT_>=260000    130538.365957\n",
      "1                 CHILDREN_CNT     95424.586272\n",
      "7      CUR_CREDIT_AMT_>=350000     90136.107076\n",
      "5             CARD_CUR_CNT_>=2     73260.984226\n",
      "6  MAX_CREDIT_REST_HY2_>=86000     46694.044211\n",
      "2             EDUCATION_Высшее     37971.236692\n",
      "3       ADD_INCOME_AMT_>=90000     32440.765569\n",
      "\n",
      "Feature Importance based on Split:\n",
      "                       Feature  Split_Importance\n",
      "0                          AGE             12256\n",
      "1                 CHILDREN_CNT              5430\n",
      "2             EDUCATION_Высшее              2351\n",
      "3       ADD_INCOME_AMT_>=90000              2187\n",
      "6  MAX_CREDIT_REST_HY2_>=86000              1986\n",
      "4   CLIENT_INCOME_AMT_>=260000              1879\n",
      "7      CUR_CREDIT_AMT_>=350000              1764\n",
      "5             CARD_CUR_CNT_>=2              1647\n"
     ]
    }
   ],
   "source": [
    "# Calculate feature importance using 'gain'\n",
    "gain_importance = bst.feature_importance(importance_type='gain')\n",
    "gain_importance_df = pd.DataFrame({'Feature': X_train.columns, 'Gain_Importance': gain_importance})\n",
    "gain_importance_df = gain_importance_df.sort_values(by='Gain_Importance', ascending=False)\n",
    "\n",
    "print(\"Feature Importance based on Gain:\")\n",
    "print(gain_importance_df)\n",
    "\n",
    "# Calculate feature importance using 'split'\n",
    "split_importance = bst.feature_importance(importance_type='split')\n",
    "split_importance_df = pd.DataFrame({'Feature': X_train.columns, 'Split_Importance': split_importance})\n",
    "split_importance_df = split_importance_df.sort_values(by='Split_Importance', ascending=False)\n",
    "\n",
    "print(\"\\nFeature Importance based on Split:\")\n",
    "print(split_importance_df)"
   ]
  },
  {
   "cell_type": "markdown",
   "id": "fcc41424",
   "metadata": {},
   "source": [
    "# Test Results Checking"
   ]
  },
  {
   "cell_type": "code",
   "execution_count": 24,
   "id": "f148f1b1",
   "metadata": {
    "scrolled": true
   },
   "outputs": [
    {
     "data": {
      "text/plain": [
       "(11197, 8)"
      ]
     },
     "execution_count": 24,
     "metadata": {},
     "output_type": "execute_result"
    }
   ],
   "source": [
    "x_test.shape"
   ]
  },
  {
   "cell_type": "code",
   "execution_count": 25,
   "id": "8c4d3369",
   "metadata": {},
   "outputs": [],
   "source": [
    "export = x_test.sample(10000)\n",
    "\n",
    "export_pred_proba = dt_clf.predict_proba(export)[::,1]\n",
    "export_pred_proba_df = pd.DataFrame(export_pred_proba)\n",
    "\n",
    "final_ex = pd.merge(export, y_test, left_index=True, right_index=True)\n",
    "final_ex = final_ex.reset_index()\n",
    "final_ex = pd.merge(final_ex, export_pred_proba_df, left_index=True, right_index=True)\n",
    "final_ex.rename(columns = {0:'Score'}, inplace = True)\n",
    "\n",
    "data = final_ex[['CLIENT_ID', 'Target', 'Score']]\n",
    "\n",
    "final_df = data.sort_values(by=['Score'], ascending=False)\n",
    "final_df.to_csv('ABT_PROD_CLF_test_tesults.csv', encoding='utf-8', index = False)"
   ]
  },
  {
   "cell_type": "code",
   "execution_count": 62,
   "id": "fdcbc71a",
   "metadata": {},
   "outputs": [
    {
     "data": {
      "text/plain": [
       "1    5062\n",
       "0    4938\n",
       "Name: Target, dtype: int64"
      ]
     },
     "execution_count": 62,
     "metadata": {},
     "output_type": "execute_result"
    }
   ],
   "source": [
    "data['Target'].value_counts()"
   ]
  },
  {
   "cell_type": "markdown",
   "id": "512220d2",
   "metadata": {},
   "source": [
    "# Model Checking on past data"
   ]
  },
  {
   "cell_type": "code",
   "execution_count": 21,
   "id": "e0d4b3d8",
   "metadata": {},
   "outputs": [
    {
     "data": {
      "text/plain": [
       "Index(['Target', 'AGE', 'CHILDREN_CNT', 'EDUCATION_Высшее',\n",
       "       'ADD_INCOME_AMT_>=90000', 'CLIENT_INCOME_AMT_>=260000',\n",
       "       'CARD_CUR_CNT_>=2', 'MAX_CREDIT_REST_HY2_>=86000',\n",
       "       'CUR_CREDIT_AMT_>=350000'],\n",
       "      dtype='object')"
      ]
     },
     "execution_count": 21,
     "metadata": {},
     "output_type": "execute_result"
    }
   ],
   "source": [
    "df.columns"
   ]
  },
  {
   "cell_type": "code",
   "execution_count": 22,
   "id": "ea05e9d0",
   "metadata": {},
   "outputs": [
    {
     "data": {
      "text/html": [
       "<div>\n",
       "<style scoped>\n",
       "    .dataframe tbody tr th:only-of-type {\n",
       "        vertical-align: middle;\n",
       "    }\n",
       "\n",
       "    .dataframe tbody tr th {\n",
       "        vertical-align: top;\n",
       "    }\n",
       "\n",
       "    .dataframe thead th {\n",
       "        text-align: right;\n",
       "    }\n",
       "</style>\n",
       "<table border=\"1\" class=\"dataframe\">\n",
       "  <thead>\n",
       "    <tr style=\"text-align: right;\">\n",
       "      <th></th>\n",
       "      <th>Target</th>\n",
       "      <th>AGE</th>\n",
       "      <th>CHILDREN_CNT</th>\n",
       "      <th>EDUCATION_Высшее</th>\n",
       "      <th>ADD_INCOME_AMT_&gt;=90000</th>\n",
       "      <th>CLIENT_INCOME_AMT_&gt;=260000</th>\n",
       "      <th>CARD_CUR_CNT_&gt;=2</th>\n",
       "      <th>MAX_CREDIT_REST_HY2_&gt;=86000</th>\n",
       "      <th>CUR_CREDIT_AMT_&gt;=350000</th>\n",
       "    </tr>\n",
       "    <tr>\n",
       "      <th>CLIENT_ID</th>\n",
       "      <th></th>\n",
       "      <th></th>\n",
       "      <th></th>\n",
       "      <th></th>\n",
       "      <th></th>\n",
       "      <th></th>\n",
       "      <th></th>\n",
       "      <th></th>\n",
       "      <th></th>\n",
       "    </tr>\n",
       "  </thead>\n",
       "  <tbody>\n",
       "    <tr>\n",
       "      <th>9529273</th>\n",
       "      <td>1</td>\n",
       "      <td>63.0</td>\n",
       "      <td>0.0</td>\n",
       "      <td>1</td>\n",
       "      <td>1</td>\n",
       "      <td>1</td>\n",
       "      <td>0</td>\n",
       "      <td>0</td>\n",
       "      <td>0</td>\n",
       "    </tr>\n",
       "    <tr>\n",
       "      <th>9529343</th>\n",
       "      <td>1</td>\n",
       "      <td>47.0</td>\n",
       "      <td>0.0</td>\n",
       "      <td>1</td>\n",
       "      <td>1</td>\n",
       "      <td>1</td>\n",
       "      <td>0</td>\n",
       "      <td>0</td>\n",
       "      <td>0</td>\n",
       "    </tr>\n",
       "    <tr>\n",
       "      <th>9529374</th>\n",
       "      <td>1</td>\n",
       "      <td>34.0</td>\n",
       "      <td>0.0</td>\n",
       "      <td>1</td>\n",
       "      <td>1</td>\n",
       "      <td>1</td>\n",
       "      <td>0</td>\n",
       "      <td>0</td>\n",
       "      <td>0</td>\n",
       "    </tr>\n",
       "    <tr>\n",
       "      <th>9529498</th>\n",
       "      <td>1</td>\n",
       "      <td>48.0</td>\n",
       "      <td>0.0</td>\n",
       "      <td>1</td>\n",
       "      <td>1</td>\n",
       "      <td>1</td>\n",
       "      <td>1</td>\n",
       "      <td>0</td>\n",
       "      <td>1</td>\n",
       "    </tr>\n",
       "    <tr>\n",
       "      <th>9529576</th>\n",
       "      <td>1</td>\n",
       "      <td>62.0</td>\n",
       "      <td>0.0</td>\n",
       "      <td>1</td>\n",
       "      <td>0</td>\n",
       "      <td>0</td>\n",
       "      <td>1</td>\n",
       "      <td>1</td>\n",
       "      <td>0</td>\n",
       "    </tr>\n",
       "  </tbody>\n",
       "</table>\n",
       "</div>"
      ],
      "text/plain": [
       "           Target   AGE  CHILDREN_CNT  EDUCATION_Высшее  \\\n",
       "CLIENT_ID                                                 \n",
       "9529273         1  63.0           0.0                 1   \n",
       "9529343         1  47.0           0.0                 1   \n",
       "9529374         1  34.0           0.0                 1   \n",
       "9529498         1  48.0           0.0                 1   \n",
       "9529576         1  62.0           0.0                 1   \n",
       "\n",
       "           ADD_INCOME_AMT_>=90000  CLIENT_INCOME_AMT_>=260000  \\\n",
       "CLIENT_ID                                                       \n",
       "9529273                         1                           1   \n",
       "9529343                         1                           1   \n",
       "9529374                         1                           1   \n",
       "9529498                         1                           1   \n",
       "9529576                         0                           0   \n",
       "\n",
       "           CARD_CUR_CNT_>=2  MAX_CREDIT_REST_HY2_>=86000  \\\n",
       "CLIENT_ID                                                  \n",
       "9529273                   0                            0   \n",
       "9529343                   0                            0   \n",
       "9529374                   0                            0   \n",
       "9529498                   1                            0   \n",
       "9529576                   1                            1   \n",
       "\n",
       "           CUR_CREDIT_AMT_>=350000  \n",
       "CLIENT_ID                           \n",
       "9529273                          0  \n",
       "9529343                          0  \n",
       "9529374                          0  \n",
       "9529498                          1  \n",
       "9529576                          0  "
      ]
     },
     "execution_count": 22,
     "metadata": {},
     "output_type": "execute_result"
    }
   ],
   "source": [
    "df.head()"
   ]
  },
  {
   "cell_type": "code",
   "execution_count": 25,
   "id": "2458abfb",
   "metadata": {},
   "outputs": [
    {
     "name": "stdout",
     "output_type": "stream",
     "text": [
      "AGE\n",
      "CHILDREN_CNT\n",
      "EDUCATION_Высшее\n",
      "ADD_INCOME_AMT_>=90000\n",
      "CLIENT_INCOME_AMT_>=260000\n",
      "CARD_CUR_CNT_>=2\n",
      "MAX_CREDIT_REST_HY2_>=86000\n",
      "CUR_CREDIT_AMT_>=350000\n"
     ]
    }
   ],
   "source": [
    "dataset = pd.read_csv(r'C:\\Users\\DAytkali\\Desktop\\ABT_PROD\\ABT_PROD_VALIDATION_DATASET.csv', sep=';', encoding = 'mbcs')\n",
    "\n",
    "dataset = df_transformation(dataset)\n",
    "\n",
    "dataset = dataset.set_index('CLIENT_ID')\n",
    "\n",
    "dataset = dataset[df.drop(['Target'], axis = 1).columns]\n",
    "\n",
    "dataset.fillna(0, inplace = True)\n",
    "\n",
    "dataset_pred_proba = bst.predict(dataset)\n",
    "\n",
    "for i in dataset.columns:\n",
    "    print(i)\n",
    "\n",
    "dataset = dataset.reset_index()\n",
    "dataset_pred_proba_df = pd.DataFrame(dataset_pred_proba)\n",
    "\n",
    "final = pd.merge(dataset, dataset_pred_proba_df, left_index=True, right_index=True)\n",
    "final.rename(columns = {0:'Score'}, inplace = True)\n",
    "\n",
    "data = final[['CLIENT_ID', 'Score']]\n",
    "sorted_df = data.sort_values(by=['Score'], ascending=False)\n",
    "#final_df = sorted_df[sorted_df['Score']>=0.7]\n",
    "sorted_df.to_csv('ABT_PROD_validation_scores.csv', encoding='utf-8')"
   ]
  },
  {
   "cell_type": "code",
   "execution_count": 26,
   "id": "42f0a4e5",
   "metadata": {},
   "outputs": [
    {
     "data": {
      "text/html": [
       "<div>\n",
       "<style scoped>\n",
       "    .dataframe tbody tr th:only-of-type {\n",
       "        vertical-align: middle;\n",
       "    }\n",
       "\n",
       "    .dataframe tbody tr th {\n",
       "        vertical-align: top;\n",
       "    }\n",
       "\n",
       "    .dataframe thead th {\n",
       "        text-align: right;\n",
       "    }\n",
       "</style>\n",
       "<table border=\"1\" class=\"dataframe\">\n",
       "  <thead>\n",
       "    <tr style=\"text-align: right;\">\n",
       "      <th></th>\n",
       "      <th>Target</th>\n",
       "      <th>AGE</th>\n",
       "      <th>CHILDREN_CNT</th>\n",
       "      <th>EDUCATION</th>\n",
       "      <th>CLIENT_INCOME_AMT</th>\n",
       "      <th>IS_CAR_FLG</th>\n",
       "      <th>ADD_INCOME_AMT</th>\n",
       "      <th>CARD_CUR_CNT</th>\n",
       "      <th>REMN_PAYMENT_CNT</th>\n",
       "      <th>LOAN_DAY_CNT</th>\n",
       "      <th>LAST_CRD_OPEN_MNTH_CNT</th>\n",
       "      <th>TR_MBANLOG_CNT_Q2</th>\n",
       "      <th>MAX_CREDIT_REST_HY2</th>\n",
       "      <th>CUR_DEP_AMT</th>\n",
       "      <th>CUR_CREDIT_AMT</th>\n",
       "    </tr>\n",
       "    <tr>\n",
       "      <th>CLIENT_ID</th>\n",
       "      <th></th>\n",
       "      <th></th>\n",
       "      <th></th>\n",
       "      <th></th>\n",
       "      <th></th>\n",
       "      <th></th>\n",
       "      <th></th>\n",
       "      <th></th>\n",
       "      <th></th>\n",
       "      <th></th>\n",
       "      <th></th>\n",
       "      <th></th>\n",
       "      <th></th>\n",
       "      <th></th>\n",
       "      <th></th>\n",
       "    </tr>\n",
       "  </thead>\n",
       "  <tbody>\n",
       "    <tr>\n",
       "      <th>9529273</th>\n",
       "      <td>1</td>\n",
       "      <td>63.0</td>\n",
       "      <td>0.0</td>\n",
       "      <td>Высшее</td>\n",
       "      <td>786780.0</td>\n",
       "      <td>N</td>\n",
       "      <td>155000.0</td>\n",
       "      <td>0</td>\n",
       "      <td>0.0</td>\n",
       "      <td>3481.0</td>\n",
       "      <td>NaN</td>\n",
       "      <td>0</td>\n",
       "      <td>0.0</td>\n",
       "      <td>0.0</td>\n",
       "      <td>0.00</td>\n",
       "    </tr>\n",
       "    <tr>\n",
       "      <th>9529343</th>\n",
       "      <td>1</td>\n",
       "      <td>47.0</td>\n",
       "      <td>0.0</td>\n",
       "      <td>Высшее</td>\n",
       "      <td>650000.0</td>\n",
       "      <td>N</td>\n",
       "      <td>400000.0</td>\n",
       "      <td>0</td>\n",
       "      <td>0.0</td>\n",
       "      <td>1278.0</td>\n",
       "      <td>42.0</td>\n",
       "      <td>0</td>\n",
       "      <td>0.0</td>\n",
       "      <td>0.0</td>\n",
       "      <td>0.00</td>\n",
       "    </tr>\n",
       "    <tr>\n",
       "      <th>9529374</th>\n",
       "      <td>1</td>\n",
       "      <td>34.0</td>\n",
       "      <td>0.0</td>\n",
       "      <td>Высшее</td>\n",
       "      <td>8714983.0</td>\n",
       "      <td>Y</td>\n",
       "      <td>7864983.0</td>\n",
       "      <td>0</td>\n",
       "      <td>0.0</td>\n",
       "      <td>2168.0</td>\n",
       "      <td>119.0</td>\n",
       "      <td>8</td>\n",
       "      <td>0.0</td>\n",
       "      <td>NaN</td>\n",
       "      <td>0.00</td>\n",
       "    </tr>\n",
       "    <tr>\n",
       "      <th>9529498</th>\n",
       "      <td>1</td>\n",
       "      <td>48.0</td>\n",
       "      <td>0.0</td>\n",
       "      <td>Высшее</td>\n",
       "      <td>784686.0</td>\n",
       "      <td>Y</td>\n",
       "      <td>264686.0</td>\n",
       "      <td>2</td>\n",
       "      <td>64.0</td>\n",
       "      <td>177.0</td>\n",
       "      <td>6.0</td>\n",
       "      <td>0</td>\n",
       "      <td>0.0</td>\n",
       "      <td>NaN</td>\n",
       "      <td>4298330.22</td>\n",
       "    </tr>\n",
       "    <tr>\n",
       "      <th>9529576</th>\n",
       "      <td>1</td>\n",
       "      <td>62.0</td>\n",
       "      <td>0.0</td>\n",
       "      <td>Высшее</td>\n",
       "      <td>150000.0</td>\n",
       "      <td>Y</td>\n",
       "      <td>0.0</td>\n",
       "      <td>2</td>\n",
       "      <td>11.0</td>\n",
       "      <td>47.0</td>\n",
       "      <td>0.0</td>\n",
       "      <td>0</td>\n",
       "      <td>314900.0</td>\n",
       "      <td>NaN</td>\n",
       "      <td>54032.69</td>\n",
       "    </tr>\n",
       "    <tr>\n",
       "      <th>...</th>\n",
       "      <td>...</td>\n",
       "      <td>...</td>\n",
       "      <td>...</td>\n",
       "      <td>...</td>\n",
       "      <td>...</td>\n",
       "      <td>...</td>\n",
       "      <td>...</td>\n",
       "      <td>...</td>\n",
       "      <td>...</td>\n",
       "      <td>...</td>\n",
       "      <td>...</td>\n",
       "      <td>...</td>\n",
       "      <td>...</td>\n",
       "      <td>...</td>\n",
       "      <td>...</td>\n",
       "    </tr>\n",
       "    <tr>\n",
       "      <th>63108175</th>\n",
       "      <td>0</td>\n",
       "      <td>NaN</td>\n",
       "      <td>NaN</td>\n",
       "      <td>NaN</td>\n",
       "      <td>NaN</td>\n",
       "      <td>N</td>\n",
       "      <td>NaN</td>\n",
       "      <td>1</td>\n",
       "      <td>59.0</td>\n",
       "      <td>0.0</td>\n",
       "      <td>11.0</td>\n",
       "      <td>0</td>\n",
       "      <td>3687901.0</td>\n",
       "      <td>NaN</td>\n",
       "      <td>3676828.05</td>\n",
       "    </tr>\n",
       "    <tr>\n",
       "      <th>63108205</th>\n",
       "      <td>0</td>\n",
       "      <td>NaN</td>\n",
       "      <td>NaN</td>\n",
       "      <td>NaN</td>\n",
       "      <td>NaN</td>\n",
       "      <td>N</td>\n",
       "      <td>NaN</td>\n",
       "      <td>0</td>\n",
       "      <td>0.0</td>\n",
       "      <td>412.0</td>\n",
       "      <td>NaN</td>\n",
       "      <td>0</td>\n",
       "      <td>795000.0</td>\n",
       "      <td>NaN</td>\n",
       "      <td>0.00</td>\n",
       "    </tr>\n",
       "    <tr>\n",
       "      <th>63108373</th>\n",
       "      <td>0</td>\n",
       "      <td>NaN</td>\n",
       "      <td>NaN</td>\n",
       "      <td>NaN</td>\n",
       "      <td>NaN</td>\n",
       "      <td>N</td>\n",
       "      <td>NaN</td>\n",
       "      <td>0</td>\n",
       "      <td>0.0</td>\n",
       "      <td>439.0</td>\n",
       "      <td>NaN</td>\n",
       "      <td>0</td>\n",
       "      <td>422880.0</td>\n",
       "      <td>NaN</td>\n",
       "      <td>0.00</td>\n",
       "    </tr>\n",
       "    <tr>\n",
       "      <th>63108788</th>\n",
       "      <td>0</td>\n",
       "      <td>NaN</td>\n",
       "      <td>NaN</td>\n",
       "      <td>NaN</td>\n",
       "      <td>NaN</td>\n",
       "      <td>N</td>\n",
       "      <td>NaN</td>\n",
       "      <td>0</td>\n",
       "      <td>32.0</td>\n",
       "      <td>0.0</td>\n",
       "      <td>NaN</td>\n",
       "      <td>0</td>\n",
       "      <td>380939.0</td>\n",
       "      <td>NaN</td>\n",
       "      <td>266613.25</td>\n",
       "    </tr>\n",
       "    <tr>\n",
       "      <th>63109545</th>\n",
       "      <td>0</td>\n",
       "      <td>NaN</td>\n",
       "      <td>NaN</td>\n",
       "      <td>NaN</td>\n",
       "      <td>NaN</td>\n",
       "      <td>N</td>\n",
       "      <td>NaN</td>\n",
       "      <td>2</td>\n",
       "      <td>0.0</td>\n",
       "      <td>0.0</td>\n",
       "      <td>13.0</td>\n",
       "      <td>0</td>\n",
       "      <td>109990.0</td>\n",
       "      <td>NaN</td>\n",
       "      <td>0.00</td>\n",
       "    </tr>\n",
       "  </tbody>\n",
       "</table>\n",
       "<p>370914 rows × 15 columns</p>\n",
       "</div>"
      ],
      "text/plain": [
       "           Target   AGE  CHILDREN_CNT EDUCATION  CLIENT_INCOME_AMT IS_CAR_FLG  \\\n",
       "CLIENT_ID                                                                       \n",
       "9529273         1  63.0           0.0    Высшее           786780.0          N   \n",
       "9529343         1  47.0           0.0    Высшее           650000.0          N   \n",
       "9529374         1  34.0           0.0    Высшее          8714983.0          Y   \n",
       "9529498         1  48.0           0.0    Высшее           784686.0          Y   \n",
       "9529576         1  62.0           0.0    Высшее           150000.0          Y   \n",
       "...           ...   ...           ...       ...                ...        ...   \n",
       "63108175        0   NaN           NaN       NaN                NaN          N   \n",
       "63108205        0   NaN           NaN       NaN                NaN          N   \n",
       "63108373        0   NaN           NaN       NaN                NaN          N   \n",
       "63108788        0   NaN           NaN       NaN                NaN          N   \n",
       "63109545        0   NaN           NaN       NaN                NaN          N   \n",
       "\n",
       "           ADD_INCOME_AMT  CARD_CUR_CNT  REMN_PAYMENT_CNT  LOAN_DAY_CNT  \\\n",
       "CLIENT_ID                                                                 \n",
       "9529273          155000.0             0               0.0        3481.0   \n",
       "9529343          400000.0             0               0.0        1278.0   \n",
       "9529374         7864983.0             0               0.0        2168.0   \n",
       "9529498          264686.0             2              64.0         177.0   \n",
       "9529576               0.0             2              11.0          47.0   \n",
       "...                   ...           ...               ...           ...   \n",
       "63108175              NaN             1              59.0           0.0   \n",
       "63108205              NaN             0               0.0         412.0   \n",
       "63108373              NaN             0               0.0         439.0   \n",
       "63108788              NaN             0              32.0           0.0   \n",
       "63109545              NaN             2               0.0           0.0   \n",
       "\n",
       "           LAST_CRD_OPEN_MNTH_CNT  TR_MBANLOG_CNT_Q2  MAX_CREDIT_REST_HY2  \\\n",
       "CLIENT_ID                                                                   \n",
       "9529273                       NaN                  0                  0.0   \n",
       "9529343                      42.0                  0                  0.0   \n",
       "9529374                     119.0                  8                  0.0   \n",
       "9529498                       6.0                  0                  0.0   \n",
       "9529576                       0.0                  0             314900.0   \n",
       "...                           ...                ...                  ...   \n",
       "63108175                     11.0                  0            3687901.0   \n",
       "63108205                      NaN                  0             795000.0   \n",
       "63108373                      NaN                  0             422880.0   \n",
       "63108788                      NaN                  0             380939.0   \n",
       "63109545                     13.0                  0             109990.0   \n",
       "\n",
       "           CUR_DEP_AMT  CUR_CREDIT_AMT  \n",
       "CLIENT_ID                               \n",
       "9529273            0.0            0.00  \n",
       "9529343            0.0            0.00  \n",
       "9529374            NaN            0.00  \n",
       "9529498            NaN      4298330.22  \n",
       "9529576            NaN        54032.69  \n",
       "...                ...             ...  \n",
       "63108175           NaN      3676828.05  \n",
       "63108205           NaN            0.00  \n",
       "63108373           NaN            0.00  \n",
       "63108788           NaN       266613.25  \n",
       "63109545           NaN            0.00  \n",
       "\n",
       "[370914 rows x 15 columns]"
      ]
     },
     "execution_count": 26,
     "metadata": {},
     "output_type": "execute_result"
    }
   ],
   "source": [
    "df"
   ]
  },
  {
   "cell_type": "markdown",
   "id": "5793d69a",
   "metadata": {},
   "source": [
    "# Get Current Scores"
   ]
  },
  {
   "cell_type": "code",
   "execution_count": 11,
   "id": "362f239f",
   "metadata": {},
   "outputs": [
    {
     "data": {
      "text/plain": [
       "Index(['CLIENT_ID', 'AGE', 'CHILDREN_CNT', 'EDUCATION', 'CLIENT_INCOME_AMT',\n",
       "       'IS_CAR_FLG', 'ADD_INCOME_AMT', 'TR_MBANLOG_CNT_Q2', 'REMN_PAYMENT_CNT',\n",
       "       'LOAN_DAY_CNT', 'CARD_CUR_CNT', 'MAX_CREDIT_REST_HY2', 'CUR_DEP_AMT',\n",
       "       'CUR_CREDIT_AMT'],\n",
       "      dtype='object')"
      ]
     },
     "execution_count": 11,
     "metadata": {},
     "output_type": "execute_result"
    }
   ],
   "source": [
    "dataset.columns"
   ]
  },
  {
   "cell_type": "code",
   "execution_count": 40,
   "id": "a9ed90db",
   "metadata": {},
   "outputs": [
    {
     "name": "stdout",
     "output_type": "stream",
     "text": [
      "AGE\n",
      "CHILDREN_CNT\n",
      "EDUCATION_Высшее\n",
      "ADD_INCOME_AMT_>=90000\n",
      "CLIENT_INCOME_AMT_>=260000\n",
      "CARD_CUR_CNT_>=2\n",
      "MAX_CREDIT_REST_HY2_>=86000\n",
      "CUR_CREDIT_AMT_>=350000\n"
     ]
    }
   ],
   "source": [
    "dataset = pd.read_csv(r'C:\\Users\\DAytkali\\Desktop\\ABT_PROD\\ABT_PROD_UPLOAD_DATASET.csv', sep=';', encoding = 'mbcs')\n",
    "\n",
    "dataset = df_transformation(dataset)\n",
    "\n",
    "dataset = dataset.set_index('CLIENT_ID')\n",
    "\n",
    "dataset = dataset[df.drop(['Target'], axis = 1).columns]\n",
    "\n",
    "dataset.fillna(0, inplace = True)\n",
    "\n",
    "dataset_pred_proba = bst.predict(dataset)\n",
    "\n",
    "for i in dataset.columns:\n",
    "    print(i)\n",
    "\n",
    "dataset = dataset.reset_index()\n",
    "dataset_pred_proba_df = pd.DataFrame(dataset_pred_proba)\n",
    "\n",
    "final = pd.merge(dataset, dataset_pred_proba_df, left_index=True, right_index=True)\n",
    "final.rename(columns = {0:'Score'}, inplace = True)\n",
    "\n",
    "data = final[['CLIENT_ID', 'Score']]\n",
    "sorted_df = data.sort_values(by=['Score'], ascending=False)\n",
    "#final_df = sorted_df[sorted_df['Score']>=0.7]\n",
    "sorted_df.to_csv('ABT_PROD_upload_scores.csv', encoding='utf-8')"
   ]
  },
  {
   "cell_type": "code",
   "execution_count": 37,
   "id": "f3c7804b",
   "metadata": {},
   "outputs": [
    {
     "data": {
      "text/html": [
       "<div>\n",
       "<style scoped>\n",
       "    .dataframe tbody tr th:only-of-type {\n",
       "        vertical-align: middle;\n",
       "    }\n",
       "\n",
       "    .dataframe tbody tr th {\n",
       "        vertical-align: top;\n",
       "    }\n",
       "\n",
       "    .dataframe thead th {\n",
       "        text-align: right;\n",
       "    }\n",
       "</style>\n",
       "<table border=\"1\" class=\"dataframe\">\n",
       "  <thead>\n",
       "    <tr style=\"text-align: right;\">\n",
       "      <th></th>\n",
       "      <th>CLIENT_ID</th>\n",
       "      <th>Target</th>\n",
       "      <th>AGE</th>\n",
       "      <th>CHILDREN_CNT</th>\n",
       "      <th>EDUCATION_Высшее</th>\n",
       "      <th>ADD_INCOME_AMT_&gt;=90000</th>\n",
       "      <th>CLIENT_INCOME_AMT_&gt;=260000</th>\n",
       "      <th>CARD_CUR_CNT_&gt;=2</th>\n",
       "      <th>MAX_CREDIT_REST_HY2_&gt;=86000</th>\n",
       "      <th>CUR_CREDIT_AMT_&gt;=350000</th>\n",
       "    </tr>\n",
       "  </thead>\n",
       "  <tbody>\n",
       "    <tr>\n",
       "      <th>0</th>\n",
       "      <td>9529263</td>\n",
       "      <td>1</td>\n",
       "      <td>53.0</td>\n",
       "      <td>1.0</td>\n",
       "      <td>0</td>\n",
       "      <td>0</td>\n",
       "      <td>0</td>\n",
       "      <td>0</td>\n",
       "      <td>0</td>\n",
       "      <td>0</td>\n",
       "    </tr>\n",
       "    <tr>\n",
       "      <th>1</th>\n",
       "      <td>9529264</td>\n",
       "      <td>1</td>\n",
       "      <td>36.0</td>\n",
       "      <td>0.0</td>\n",
       "      <td>1</td>\n",
       "      <td>1</td>\n",
       "      <td>1</td>\n",
       "      <td>0</td>\n",
       "      <td>0</td>\n",
       "      <td>0</td>\n",
       "    </tr>\n",
       "    <tr>\n",
       "      <th>2</th>\n",
       "      <td>9529265</td>\n",
       "      <td>1</td>\n",
       "      <td>44.0</td>\n",
       "      <td>0.0</td>\n",
       "      <td>0</td>\n",
       "      <td>1</td>\n",
       "      <td>1</td>\n",
       "      <td>0</td>\n",
       "      <td>0</td>\n",
       "      <td>0</td>\n",
       "    </tr>\n",
       "    <tr>\n",
       "      <th>3</th>\n",
       "      <td>9529266</td>\n",
       "      <td>1</td>\n",
       "      <td>50.0</td>\n",
       "      <td>0.0</td>\n",
       "      <td>1</td>\n",
       "      <td>1</td>\n",
       "      <td>1</td>\n",
       "      <td>0</td>\n",
       "      <td>0</td>\n",
       "      <td>0</td>\n",
       "    </tr>\n",
       "    <tr>\n",
       "      <th>4</th>\n",
       "      <td>9529267</td>\n",
       "      <td>1</td>\n",
       "      <td>43.0</td>\n",
       "      <td>1.0</td>\n",
       "      <td>1</td>\n",
       "      <td>0</td>\n",
       "      <td>0</td>\n",
       "      <td>0</td>\n",
       "      <td>0</td>\n",
       "      <td>0</td>\n",
       "    </tr>\n",
       "  </tbody>\n",
       "</table>\n",
       "</div>"
      ],
      "text/plain": [
       "   CLIENT_ID  Target   AGE  CHILDREN_CNT  EDUCATION_Высшее  \\\n",
       "0    9529263       1  53.0           1.0                 0   \n",
       "1    9529264       1  36.0           0.0                 1   \n",
       "2    9529265       1  44.0           0.0                 0   \n",
       "3    9529266       1  50.0           0.0                 1   \n",
       "4    9529267       1  43.0           1.0                 1   \n",
       "\n",
       "   ADD_INCOME_AMT_>=90000  CLIENT_INCOME_AMT_>=260000  CARD_CUR_CNT_>=2  \\\n",
       "0                       0                           0                 0   \n",
       "1                       1                           1                 0   \n",
       "2                       1                           1                 0   \n",
       "3                       1                           1                 0   \n",
       "4                       0                           0                 0   \n",
       "\n",
       "   MAX_CREDIT_REST_HY2_>=86000  CUR_CREDIT_AMT_>=350000  \n",
       "0                            0                        0  \n",
       "1                            0                        0  \n",
       "2                            0                        0  \n",
       "3                            0                        0  \n",
       "4                            0                        0  "
      ]
     },
     "execution_count": 37,
     "metadata": {},
     "output_type": "execute_result"
    }
   ],
   "source": [
    "dataset.head()"
   ]
  },
  {
   "cell_type": "code",
   "execution_count": null,
   "id": "55ca3f9c",
   "metadata": {},
   "outputs": [],
   "source": []
  }
 ],
 "metadata": {
  "kernelspec": {
   "display_name": "Python 3 (ipykernel)",
   "language": "python",
   "name": "python3"
  },
  "language_info": {
   "codemirror_mode": {
    "name": "ipython",
    "version": 3
   },
   "file_extension": ".py",
   "mimetype": "text/x-python",
   "name": "python",
   "nbconvert_exporter": "python",
   "pygments_lexer": "ipython3",
   "version": "3.9.7"
  }
 },
 "nbformat": 4,
 "nbformat_minor": 5
}
